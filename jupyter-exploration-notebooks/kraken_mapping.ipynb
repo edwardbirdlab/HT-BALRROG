{
 "cells": [
  {
   "cell_type": "code",
   "execution_count": 89,
   "id": "27a47088-78df-44a2-a6a3-8ca6a646548f",
   "metadata": {},
   "outputs": [],
   "source": [
    "import pandas as pd\n",
    "import ncbi_genome_download as ngd\n",
    "import os\n",
    "import pathlib\n",
    "from Bio import Entrez, SeqIO\n",
    "import subprocess"
   ]
  },
  {
   "cell_type": "code",
   "execution_count": 5,
   "id": "4fbdfdae-8495-4a6a-9218-08906521e9d7",
   "metadata": {},
   "outputs": [],
   "source": [
    "aligner = 'bowtie'\n",
    "threads = '4'"
   ]
  },
  {
   "cell_type": "code",
   "execution_count": 6,
   "id": "77e9abd9-5875-433b-928b-c120d4ba7c5d",
   "metadata": {},
   "outputs": [],
   "source": [
    "test_kraken = pd.read_csv(\"testing_samples/M1_kreport.tsv\", sep='\\t', comment='#')"
   ]
  },
  {
   "cell_type": "code",
   "execution_count": 11,
   "id": "ef14d94c-7951-4592-9a00-f165ac04c5c0",
   "metadata": {},
   "outputs": [],
   "source": [
    "species_subset = test_kraken.loc[(test_kraken['rank'] == 'species') & (test_kraken['taxReads'] > 500) & (test_kraken['taxReads'] < 510)]"
   ]
  },
  {
   "cell_type": "code",
   "execution_count": 12,
   "id": "e3e0a1bc-5054-413a-a672-3eecbf41a2ff",
   "metadata": {},
   "outputs": [
    {
     "data": {
      "text/plain": [
       "1"
      ]
     },
     "execution_count": 12,
     "metadata": {},
     "output_type": "execute_result"
    }
   ],
   "source": [
    "len(species_subset)"
   ]
  },
  {
   "cell_type": "code",
   "execution_count": 13,
   "id": "c791dc3b-3663-408d-ab4c-f6bc667dec4a",
   "metadata": {},
   "outputs": [],
   "source": [
    "species = list(species_subset['taxID'])"
   ]
  },
  {
   "cell_type": "code",
   "execution_count": 14,
   "id": "ba7cf592-3f28-49f2-a750-bd73637d3d3e",
   "metadata": {},
   "outputs": [],
   "source": [
    "file_path = 'taxid_list.txt'\n",
    "\n",
    "with open(file_path, 'w') as file:\n",
    "    for item in species:\n",
    "        file.write(str(item) + '\\n')"
   ]
  },
  {
   "cell_type": "code",
   "execution_count": 15,
   "id": "0f0e8a80-ff4f-4382-a30b-f2787e35d4ad",
   "metadata": {},
   "outputs": [],
   "source": [
    "!ncbi-genome-download --formats fasta --section refseq -R representative --taxids taxid_list.txt -p 4 -r 4 -m metadata.tsv all"
   ]
  },
  {
   "cell_type": "code",
   "execution_count": 16,
   "id": "f4eb06d8-9e61-458f-91e0-491289bc4ec6",
   "metadata": {},
   "outputs": [],
   "source": [
    "ngd_metadata = pd.read_csv(\"metadata.tsv\", sep='\\t')"
   ]
  },
  {
   "cell_type": "code",
   "execution_count": 17,
   "id": "39dd5d6a-33cf-4fb2-a537-6536bc26fe62",
   "metadata": {},
   "outputs": [
    {
     "data": {
      "text/html": [
       "<div>\n",
       "<style scoped>\n",
       "    .dataframe tbody tr th:only-of-type {\n",
       "        vertical-align: middle;\n",
       "    }\n",
       "\n",
       "    .dataframe tbody tr th {\n",
       "        vertical-align: top;\n",
       "    }\n",
       "\n",
       "    .dataframe thead th {\n",
       "        text-align: right;\n",
       "    }\n",
       "</style>\n",
       "<table border=\"1\" class=\"dataframe\">\n",
       "  <thead>\n",
       "    <tr style=\"text-align: right;\">\n",
       "      <th></th>\n",
       "      <th>assembly_accession</th>\n",
       "      <th>bioproject</th>\n",
       "      <th>biosample</th>\n",
       "      <th>wgs_master</th>\n",
       "      <th>excluded_from_refseq</th>\n",
       "      <th>refseq_category</th>\n",
       "      <th>relation_to_type_material</th>\n",
       "      <th>taxid</th>\n",
       "      <th>species_taxid</th>\n",
       "      <th>organism_name</th>\n",
       "      <th>...</th>\n",
       "      <th>assembly_level</th>\n",
       "      <th>release_type</th>\n",
       "      <th>genome_rep</th>\n",
       "      <th>seq_rel_date</th>\n",
       "      <th>asm_name</th>\n",
       "      <th>submitter</th>\n",
       "      <th>gbrs_paired_asm</th>\n",
       "      <th>paired_asm_comp</th>\n",
       "      <th>ftp_path</th>\n",
       "      <th>local_filename</th>\n",
       "    </tr>\n",
       "  </thead>\n",
       "  <tbody>\n",
       "    <tr>\n",
       "      <th>0</th>\n",
       "      <td>GCF_900143685.1</td>\n",
       "      <td>PRJNA224116</td>\n",
       "      <td>SAMEA4555315</td>\n",
       "      <td>na</td>\n",
       "      <td>na</td>\n",
       "      <td>representative genome</td>\n",
       "      <td>assembly from type material</td>\n",
       "      <td>1871022</td>\n",
       "      <td>1871022</td>\n",
       "      <td>Parolsenella massiliensis</td>\n",
       "      <td>...</td>\n",
       "      <td>Chromosome</td>\n",
       "      <td>Major</td>\n",
       "      <td>Full</td>\n",
       "      <td>2016/12/08</td>\n",
       "      <td>PRJEB18025</td>\n",
       "      <td>NaN</td>\n",
       "      <td>GCA_900143685.1</td>\n",
       "      <td>identical</td>\n",
       "      <td>https://ftp.ncbi.nlm.nih.gov/genomes/all/GCF/9...</td>\n",
       "      <td>./refseq/bacteria/GCF_900143685.1/GCF_90014368...</td>\n",
       "    </tr>\n",
       "  </tbody>\n",
       "</table>\n",
       "<p>1 rows × 23 columns</p>\n",
       "</div>"
      ],
      "text/plain": [
       "  assembly_accession   bioproject     biosample wgs_master  \\\n",
       "0    GCF_900143685.1  PRJNA224116  SAMEA4555315         na   \n",
       "\n",
       "  excluded_from_refseq        refseq_category    relation_to_type_material  \\\n",
       "0                   na  representative genome  assembly from type material   \n",
       "\n",
       "     taxid  species_taxid              organism_name  ... assembly_level  \\\n",
       "0  1871022        1871022  Parolsenella massiliensis  ...     Chromosome   \n",
       "\n",
       "  release_type genome_rep seq_rel_date    asm_name submitter  gbrs_paired_asm  \\\n",
       "0        Major       Full   2016/12/08  PRJEB18025       NaN  GCA_900143685.1   \n",
       "\n",
       "  paired_asm_comp                                           ftp_path  \\\n",
       "0       identical  https://ftp.ncbi.nlm.nih.gov/genomes/all/GCF/9...   \n",
       "\n",
       "                                      local_filename  \n",
       "0  ./refseq/bacteria/GCF_900143685.1/GCF_90014368...  \n",
       "\n",
       "[1 rows x 23 columns]"
      ]
     },
     "execution_count": 17,
     "metadata": {},
     "output_type": "execute_result"
    }
   ],
   "source": [
    "ngd_metadata.head()"
   ]
  },
  {
   "cell_type": "code",
   "execution_count": 18,
   "id": "1f505c07-5155-4497-8579-5ff1e4f3cd5b",
   "metadata": {},
   "outputs": [
    {
     "data": {
      "text/plain": [
       "1"
      ]
     },
     "execution_count": 18,
     "metadata": {},
     "output_type": "execute_result"
    }
   ],
   "source": [
    "len(ngd_metadata)"
   ]
  },
  {
   "cell_type": "code",
   "execution_count": 19,
   "id": "9027bf47-ca4d-4250-9653-9829fcf58c8c",
   "metadata": {},
   "outputs": [
    {
     "name": "stdout",
     "output_type": "stream",
     "text": [
      "extract_kraken_reads.py --fastq-output -t 1871022 -k testing_samples/M1_koutput.tsv -1 testing_samples/M1_R1.fq.gz -2 testing_samples/M1_R2.fq.gz -o R1_1871022.fq -o2 R2_1871022.fq\n",
      "PROGRAM START TIME: 03-15-2024 18:53:46\n",
      "\t1 taxonomy IDs to parse\n",
      ">> STEP 1: PARSING KRAKEN FILE FOR READIDS testing_samples/M1_koutput.tsv\n",
      "\t13.14 million reads processed\n",
      "\t462 read IDs saved\n",
      ">> STEP 2: READING SEQUENCE FILES AND WRITING READS\n",
      "\t462 read IDs found (6.56 mill reads processed)\n",
      "\t462 read IDs found (6.56 mill reads processed)\n",
      "\t462 reads printed to file\n",
      "\tGenerated file: R1_1871022.fq\n",
      "\tGenerated file: R2_1871022.fq\n",
      "PROGRAM END TIME: 03-15-2024 18:55:49\n",
      "gunzip ./refseq/bacteria/GCF_900143685.1/GCF_900143685.1_PRJEB18025_genomic.fna.gz\n",
      "bowtie2-build ./refseq/bacteria/GCF_900143685.1/GCF_900143685.1_PRJEB18025_genomic.fna ./bindex/1871022\n"
     ]
    },
    {
     "name": "stderr",
     "output_type": "stream",
     "text": [
      "gzip: ./refseq/bacteria/GCF_900143685.1/GCF_900143685.1_PRJEB18025_genomic.fna already exists;\tnot overwritten\n",
      "Building a SMALL index\n"
     ]
    },
    {
     "name": "stdout",
     "output_type": "stream",
     "text": [
      "Settings:\n",
      "  Output files: \"./bindex/1871022.*.bt2\"\n",
      "  Line rate: 6 (line is 64 bytes)\n",
      "  Lines per side: 1 (side is 64 bytes)\n",
      "  Offset rate: 4 (one in 16)\n",
      "  FTable chars: 10\n",
      "  Strings: unpacked\n",
      "  Max bucket size: default\n",
      "  Max bucket size, sqrt multiplier: default\n",
      "  Max bucket size, len divisor: 4\n",
      "  Difference-cover sample period: 1024\n",
      "  Endianness: little\n",
      "  Actual local endianness: little\n",
      "  Sanity checking: disabled\n",
      "  Assertions: disabled\n",
      "  Random seed: 0\n",
      "  Sizeofs: void*:8, int:4, long:8, size_t:8\n",
      "Input files DNA, FASTA:\n",
      "  ./refseq/bacteria/GCF_900143685.1/GCF_900143685.1_PRJEB18025_genomic.fna\n",
      "Reading reference sizes\n",
      "  Time reading reference sizes: 00:00:00\n",
      "Calculating joined length\n",
      "Writing header\n",
      "Reserving space for joined string\n",
      "Joining reference sequences\n",
      "  Time to join reference sequences: 00:00:00\n",
      "bmax according to bmaxDivN setting: 501783\n",
      "Using parameters --bmax 376338 --dcv 1024\n",
      "  Doing ahead-of-time memory usage test\n",
      "  Passed!  Constructing with these parameters: --bmax 376338 --dcv 1024\n",
      "Constructing suffix-array element generator\n",
      "Building DifferenceCoverSample\n",
      "  Building sPrime\n",
      "  Building sPrimeOrder\n",
      "  V-Sorting samples\n",
      "  V-Sorting samples time: 00:00:00\n",
      "  Allocating rank array\n",
      "  Ranking v-sort output\n",
      "  Ranking v-sort output time: 00:00:00\n",
      "  Invoking Larsson-Sadakane on ranks\n",
      "  Invoking Larsson-Sadakane on ranks time: 00:00:00\n",
      "  Sanity-checking and returning\n",
      "Building samples\n",
      "Reserving space for 12 sample suffixes\n",
      "Generating random suffixes\n",
      "QSorting 12 sample offsets, eliminating duplicates\n",
      "QSorting sample offsets, eliminating duplicates time: 00:00:00\n",
      "Multikey QSorting 12 samples\n",
      "  (Using difference cover)\n",
      "  Multikey QSorting samples time: 00:00:00\n",
      "Calculating bucket sizes\n",
      "Splitting and merging\n",
      "  Splitting and merging time: 00:00:00\n",
      "Avg bucket size: 286733 (target: 376337)\n",
      "Converting suffix-array elements to index image\n",
      "Allocating ftab, absorbFtab\n",
      "Entering Ebwt loop\n",
      "Getting block 1 of 7\n",
      "  Reserving size (376338) for bucket 1\n",
      "  Calculating Z arrays for bucket 1\n",
      "  Entering block accumulator loop for bucket 1:\n",
      "  bucket 1: 10%\n",
      "  bucket 1: 20%\n",
      "  bucket 1: 30%\n",
      "  bucket 1: 40%\n",
      "  bucket 1: 50%\n",
      "  bucket 1: 60%\n",
      "  bucket 1: 70%\n",
      "  bucket 1: 80%\n",
      "  bucket 1: 90%\n",
      "  bucket 1: 100%\n",
      "  Sorting block of length 202840 for bucket 1\n",
      "  (Using difference cover)\n",
      "  Sorting block time: 00:00:00\n",
      "Returning block of 202841 for bucket 1\n",
      "Getting block 2 of 7\n",
      "  Reserving size (376338) for bucket 2\n",
      "  Calculating Z arrays for bucket 2\n",
      "  Entering block accumulator loop for bucket 2:\n",
      "  bucket 2: 10%\n",
      "  bucket 2: 20%\n",
      "  bucket 2: 30%\n",
      "  bucket 2: 40%\n",
      "  bucket 2: 50%\n",
      "  bucket 2: 60%\n",
      "  bucket 2: 70%\n",
      "  bucket 2: 80%\n",
      "  bucket 2: 90%\n",
      "  bucket 2: 100%\n",
      "  Sorting block of length 325189 for bucket 2\n",
      "  (Using difference cover)\n",
      "  Sorting block time: 00:00:00\n",
      "Returning block of 325190 for bucket 2\n",
      "Getting block 3 of 7\n",
      "  Reserving size (376338) for bucket 3\n",
      "  Calculating Z arrays for bucket 3\n",
      "  Entering block accumulator loop for bucket 3:\n",
      "  bucket 3: 10%\n",
      "  bucket 3: 20%\n",
      "  bucket 3: 30%\n",
      "  bucket 3: 40%\n",
      "  bucket 3: 50%\n",
      "  bucket 3: 60%\n",
      "  bucket 3: 70%\n",
      "  bucket 3: 80%\n",
      "  bucket 3: 90%\n",
      "  bucket 3: 100%\n",
      "  Sorting block of length 319984 for bucket 3\n",
      "  (Using difference cover)\n",
      "  Sorting block time: 00:00:00\n",
      "Returning block of 319985 for bucket 3\n",
      "Getting block 4 of 7\n",
      "  Reserving size (376338) for bucket 4\n",
      "  Calculating Z arrays for bucket 4\n",
      "  Entering block accumulator loop for bucket 4:\n",
      "  bucket 4: 10%\n",
      "  bucket 4: 20%\n",
      "  bucket 4: 30%\n",
      "  bucket 4: 40%\n",
      "  bucket 4: 50%\n",
      "  bucket 4: 60%\n",
      "  bucket 4: 70%\n",
      "  bucket 4: 80%\n",
      "  bucket 4: 90%\n",
      "  bucket 4: 100%\n",
      "  Sorting block of length 283505 for bucket 4\n",
      "  (Using difference cover)\n",
      "  Sorting block time: 00:00:00\n",
      "Returning block of 283506 for bucket 4\n",
      "Getting block 5 of 7\n",
      "  Reserving size (376338) for bucket 5\n",
      "  Calculating Z arrays for bucket 5\n",
      "  Entering block accumulator loop for bucket 5:\n",
      "  bucket 5: 10%\n",
      "  bucket 5: 20%\n",
      "  bucket 5: 30%\n",
      "  bucket 5: 40%\n",
      "  bucket 5: 50%\n",
      "  bucket 5: 60%\n",
      "  bucket 5: 70%\n",
      "  bucket 5: 80%\n",
      "  bucket 5: 90%\n",
      "  bucket 5: 100%\n",
      "  Sorting block of length 245125 for bucket 5\n",
      "  (Using difference cover)\n",
      "  Sorting block time: 00:00:00\n",
      "Returning block of 245126 for bucket 5\n",
      "Getting block 6 of 7\n",
      "  Reserving size (376338) for bucket 6\n",
      "  Calculating Z arrays for bucket 6\n",
      "  Entering block accumulator loop for bucket 6:\n",
      "  bucket 6: 10%\n",
      "  bucket 6: 20%\n",
      "  bucket 6: 30%\n",
      "  bucket 6: 40%\n",
      "  bucket 6: 50%\n",
      "  bucket 6: 60%\n",
      "  bucket 6: 70%\n",
      "  bucket 6: 80%\n",
      "  bucket 6: 90%\n",
      "  bucket 6: 100%\n",
      "  Sorting block of length 321890 for bucket 6\n",
      "  (Using difference cover)\n",
      "  Sorting block time: 00:00:00\n",
      "Returning block of 321891 for bucket 6\n",
      "Getting block 7 of 7\n",
      "  Reserving size (376338) for bucket 7\n",
      "  Calculating Z arrays for bucket 7\n",
      "  Entering block accumulator loop for bucket 7:\n",
      "  bucket 7: 10%\n",
      "  bucket 7: 20%\n",
      "  bucket 7: 30%\n",
      "  bucket 7: 40%\n",
      "  bucket 7: 50%\n",
      "  bucket 7: 60%\n",
      "  bucket 7: 70%\n",
      "  bucket 7: 80%\n",
      "  bucket 7: 90%\n",
      "  bucket 7: 100%\n",
      "  Sorting block of length 308596 for bucket 7\n",
      "  (Using difference cover)\n",
      "  Sorting block time: 00:00:00\n",
      "Returning block of 308597 for bucket 7\n",
      "Exited Ebwt loop\n",
      "fchr[A]: 0\n",
      "fchr[C]: 344748\n",
      "fchr[G]: 995006\n",
      "fchr[T]: 1658609\n",
      "fchr[$]: 2007135\n",
      "Exiting Ebwt::buildToDisk()\n",
      "Returning from initFromVector\n",
      "Wrote 4863634 bytes to primary EBWT file: ./bindex/1871022.1.bt2.tmp\n",
      "Wrote 501788 bytes to secondary EBWT file: ./bindex/1871022.2.bt2.tmp\n",
      "Re-opening _in1 and _in2 as input streams\n",
      "Returning from Ebwt constructor\n",
      "Headers:\n",
      "    len: 2007135\n",
      "    bwtLen: 2007136\n",
      "    sz: 501784\n",
      "    bwtSz: 501784\n",
      "    lineRate: 6\n",
      "    offRate: 4\n",
      "    offMask: 0xfffffff0\n",
      "    ftabChars: 10\n",
      "    eftabLen: 20\n",
      "    eftabSz: 80\n",
      "    ftabLen: 1048577\n",
      "    ftabSz: 4194308\n",
      "    offsLen: 125446\n",
      "    offsSz: 501784\n",
      "    lineSz: 64\n",
      "    sideSz: 64\n",
      "    sideBwtSz: 48\n",
      "    sideBwtLen: 192\n",
      "    numSides: 10454\n",
      "    numLines: 10454\n",
      "    ebwtTotLen: 669056\n",
      "    ebwtTotSz: 669056\n",
      "    color: 0\n",
      "    reverse: 0\n",
      "Total time for call to driver() for forward index: 00:00:00\n",
      "Reading reference sizes\n",
      "  Time reading reference sizes: 00:00:00\n",
      "Calculating joined length\n",
      "Writing header\n",
      "Reserving space for joined string\n",
      "Joining reference sequences\n",
      "  Time to join reference sequences: 00:00:00\n",
      "  Time to reverse reference sequence: 00:00:00\n",
      "bmax according to bmaxDivN setting: 501783\n",
      "Using parameters --bmax 376338 --dcv 1024\n",
      "  Doing ahead-of-time memory usage test\n",
      "  Passed!  Constructing with these parameters: --bmax 376338 --dcv 1024\n",
      "Constructing suffix-array element generator\n",
      "Building DifferenceCoverSample\n",
      "  Building sPrime\n",
      "  Building sPrimeOrder\n",
      "  V-Sorting samples\n",
      "  V-Sorting samples time: 00:00:00\n",
      "  Allocating rank array\n",
      "  Ranking v-sort output\n",
      "  Ranking v-sort output time: 00:00:00\n",
      "  Invoking Larsson-Sadakane on ranks\n",
      "  Invoking Larsson-Sadakane on ranks time: 00:00:00\n",
      "  Sanity-checking and returning\n",
      "Building samples\n",
      "Reserving space for 12 sample suffixes\n",
      "Generating random suffixes\n",
      "QSorting 12 sample offsets, eliminating duplicates\n",
      "QSorting sample offsets, eliminating duplicates time: 00:00:00\n",
      "Multikey QSorting 12 samples\n",
      "  (Using difference cover)\n",
      "  Multikey QSorting samples time: 00:00:00\n",
      "Calculating bucket sizes\n",
      "Splitting and merging\n",
      "  Splitting and merging time: 00:00:00\n",
      "Split 1, merged 6; iterating...\n",
      "Splitting and merging\n",
      "  Splitting and merging time: 00:00:00\n",
      "Avg bucket size: 250891 (target: 376337)\n",
      "Converting suffix-array elements to index image\n",
      "Allocating ftab, absorbFtab\n",
      "Entering Ebwt loop\n",
      "Getting block 1 of 8\n",
      "  Reserving size (376338) for bucket 1\n",
      "  Calculating Z arrays for bucket 1\n",
      "  Entering block accumulator loop for bucket 1:\n",
      "  bucket 1: 10%\n",
      "  bucket 1: 20%\n",
      "  bucket 1: 30%\n",
      "  bucket 1: 40%\n",
      "  bucket 1: 50%\n",
      "  bucket 1: 60%\n",
      "  bucket 1: 70%\n",
      "  bucket 1: 80%\n",
      "  bucket 1: 90%\n",
      "  bucket 1: 100%\n",
      "  Sorting block of length 195837 for bucket 1\n",
      "  (Using difference cover)\n",
      "  Sorting block time: 00:00:00\n",
      "Returning block of 195838 for bucket 1\n",
      "Getting block 2 of 8\n",
      "  Reserving size (376338) for bucket 2\n",
      "  Calculating Z arrays for bucket 2\n",
      "  Entering block accumulator loop for bucket 2:\n",
      "  bucket 2: 10%\n",
      "  bucket 2: 20%\n",
      "  bucket 2: 30%\n",
      "  bucket 2: 40%\n",
      "  bucket 2: 50%\n",
      "  bucket 2: 60%\n",
      "  bucket 2: 70%\n",
      "  bucket 2: 80%\n",
      "  bucket 2: 90%\n",
      "  bucket 2: 100%\n",
      "  Sorting block of length 252568 for bucket 2\n",
      "  (Using difference cover)\n",
      "  Sorting block time: 00:00:00\n",
      "Returning block of 252569 for bucket 2\n",
      "Getting block 3 of 8\n",
      "  Reserving size (376338) for bucket 3\n",
      "  Calculating Z arrays for bucket 3\n",
      "  Entering block accumulator loop for bucket 3:\n",
      "  bucket 3: 10%\n",
      "  bucket 3: 20%\n",
      "  bucket 3: 30%\n",
      "  bucket 3: 40%\n",
      "  bucket 3: 50%\n",
      "  bucket 3: 60%\n",
      "  bucket 3: 70%\n",
      "  bucket 3: 80%\n",
      "  bucket 3: 90%\n",
      "  bucket 3: 100%\n",
      "  Sorting block of length 256519 for bucket 3\n",
      "  (Using difference cover)\n",
      "  Sorting block time: 00:00:00\n",
      "Returning block of 256520 for bucket 3\n",
      "Getting block 4 of 8\n",
      "  Reserving size (376338) for bucket 4\n",
      "  Calculating Z arrays for bucket 4\n",
      "  Entering block accumulator loop for bucket 4:\n",
      "  bucket 4: 10%\n",
      "  bucket 4: 20%\n",
      "  bucket 4: 30%\n",
      "  bucket 4: 40%\n",
      "  bucket 4: 50%\n",
      "  bucket 4: 60%\n",
      "  bucket 4: 70%\n",
      "  bucket 4: 80%\n",
      "  bucket 4: 90%\n",
      "  bucket 4: 100%\n",
      "  Sorting block of length 319198 for bucket 4\n",
      "  (Using difference cover)\n",
      "  Sorting block time: 00:00:00\n",
      "Returning block of 319199 for bucket 4\n",
      "Getting block 5 of 8\n",
      "  Reserving size (376338) for bucket 5\n",
      "  Calculating Z arrays for bucket 5\n",
      "  Entering block accumulator loop for bucket 5:\n",
      "  bucket 5: 10%\n",
      "  bucket 5: 20%\n",
      "  bucket 5: 30%\n",
      "  bucket 5: 40%\n",
      "  bucket 5: 50%\n",
      "  bucket 5: 60%\n",
      "  bucket 5: 70%\n",
      "  bucket 5: 80%\n",
      "  bucket 5: 90%\n",
      "  bucket 5: 100%\n",
      "  Sorting block of length 126669 for bucket 5\n",
      "  (Using difference cover)\n",
      "  Sorting block time: 00:00:00\n",
      "Returning block of 126670 for bucket 5\n",
      "Getting block 6 of 8\n",
      "  Reserving size (376338) for bucket 6\n",
      "  Calculating Z arrays for bucket 6\n",
      "  Entering block accumulator loop for bucket 6:\n",
      "  bucket 6: 10%\n",
      "  bucket 6: 20%\n",
      "  bucket 6: 30%\n",
      "  bucket 6: 40%\n",
      "  bucket 6: 50%\n",
      "  bucket 6: 60%\n",
      "  bucket 6: 70%\n",
      "  bucket 6: 80%\n",
      "  bucket 6: 90%\n",
      "  bucket 6: 100%\n",
      "  Sorting block of length 370041 for bucket 6\n",
      "  (Using difference cover)\n",
      "  Sorting block time: 00:00:00\n",
      "Returning block of 370042 for bucket 6\n",
      "Getting block 7 of 8\n",
      "  Reserving size (376338) for bucket 7\n",
      "  Calculating Z arrays for bucket 7\n",
      "  Entering block accumulator loop for bucket 7:\n",
      "  bucket 7: 10%\n",
      "  bucket 7: 20%\n",
      "  bucket 7: 30%\n",
      "  bucket 7: 40%\n",
      "  bucket 7: 50%\n",
      "  bucket 7: 60%\n",
      "  bucket 7: 70%\n",
      "  bucket 7: 80%\n",
      "  bucket 7: 90%\n",
      "  bucket 7: 100%\n",
      "  Sorting block of length 368470 for bucket 7\n",
      "  (Using difference cover)\n",
      "  Sorting block time: 00:00:00\n",
      "Returning block of 368471 for bucket 7\n",
      "Getting block 8 of 8\n",
      "  Reserving size (376338) for bucket 8\n",
      "  Calculating Z arrays for bucket 8\n",
      "  Entering block accumulator loop for bucket 8:\n",
      "  bucket 8: 10%\n",
      "  bucket 8: 20%\n",
      "  bucket 8: 30%\n",
      "  bucket 8: 40%\n",
      "  bucket 8: 50%\n",
      "  bucket 8: 60%\n",
      "  bucket 8: 70%\n",
      "  bucket 8: 80%\n",
      "  bucket 8: 90%\n",
      "  bucket 8: 100%\n",
      "  Sorting block of length 117826 for bucket 8\n",
      "  (Using difference cover)\n",
      "  Sorting block time: 00:00:00\n",
      "Returning block of 117827 for bucket 8\n",
      "Exited Ebwt loop\n",
      "fchr[A]: 0\n",
      "fchr[C]: 344748\n",
      "fchr[G]: 995006\n",
      "fchr[T]: 1658609\n",
      "fchr[$]: 2007135\n",
      "Exiting Ebwt::buildToDisk()\n",
      "Returning from initFromVector\n",
      "Wrote 4863634 bytes to primary EBWT file: ./bindex/1871022.rev.1.bt2.tmp\n",
      "Wrote 501788 bytes to secondary EBWT file: ./bindex/1871022.rev.2.bt2.tmp\n",
      "Re-opening _in1 and _in2 as input streams\n",
      "Returning from Ebwt constructor\n",
      "Headers:\n",
      "    len: 2007135\n",
      "    bwtLen: 2007136\n",
      "    sz: 501784\n",
      "    bwtSz: 501784\n",
      "    lineRate: 6\n",
      "    offRate: 4\n",
      "    offMask: 0xfffffff0\n",
      "    ftabChars: 10\n",
      "    eftabLen: 20\n",
      "    eftabSz: 80\n",
      "    ftabLen: 1048577\n",
      "    ftabSz: 4194308\n",
      "    offsLen: 125446\n",
      "    offsSz: 501784\n",
      "    lineSz: 64\n",
      "    sideSz: 64\n",
      "    sideBwtSz: 48\n",
      "    sideBwtLen: 192\n",
      "    numSides: 10454\n",
      "    numLines: 10454\n",
      "    ebwtTotLen: 669056\n",
      "    ebwtTotSz: 669056\n",
      "    color: 0\n",
      "    reverse: 1\n",
      "Total time for backward call to driver() for mirror index: 00:00:01\n",
      "bowtie2 -p 4 -x ./bindex/1871022 -1 R1_1871022.fq -2 R2_1871022.fq -S sam_1871022.sam\n"
     ]
    },
    {
     "name": "stderr",
     "output_type": "stream",
     "text": [
      "Renaming ./bindex/1871022.3.bt2.tmp to ./bindex/1871022.3.bt2\n",
      "Renaming ./bindex/1871022.4.bt2.tmp to ./bindex/1871022.4.bt2\n",
      "Renaming ./bindex/1871022.1.bt2.tmp to ./bindex/1871022.1.bt2\n",
      "Renaming ./bindex/1871022.2.bt2.tmp to ./bindex/1871022.2.bt2\n",
      "Renaming ./bindex/1871022.rev.1.bt2.tmp to ./bindex/1871022.rev.1.bt2\n",
      "Renaming ./bindex/1871022.rev.2.bt2.tmp to ./bindex/1871022.rev.2.bt2\n",
      "462 reads; of these:\n",
      "  462 (100.00%) were paired; of these:\n",
      "    421 (91.13%) aligned concordantly 0 times\n",
      "    41 (8.87%) aligned concordantly exactly 1 time\n",
      "    0 (0.00%) aligned concordantly >1 times\n",
      "    ----\n",
      "    421 pairs aligned concordantly 0 times; of these:\n",
      "      1 (0.24%) aligned discordantly 1 time\n",
      "    ----\n",
      "    420 pairs aligned 0 times concordantly or discordantly; of these:\n",
      "      840 mates make up the pairs; of these:\n",
      "        808 (96.19%) aligned 0 times\n",
      "        32 (3.81%) aligned exactly 1 time\n",
      "        0 (0.00%) aligned >1 times\n",
      "12.55% overall alignment rate\n"
     ]
    }
   ],
   "source": [
    "## Extracting reads, mapping to reference, converting to BAM and creating coverage map\n",
    "## Short Read\n",
    "\n",
    "pathlib.Path('./bindex').mkdir(parents=True, exist_ok=True) \n",
    "\n",
    "for taxid in ngd_metadata['taxid']:\n",
    "    koutput = 'testing_samples/M1_koutput.tsv'\n",
    "    kreport = 'testing_samples/M1_kreport.tsv'\n",
    "    read1 = 'testing_samples/M1_R1.fq.gz'\n",
    "    read2 = 'testing_samples/M1_R2.fq.gz'\n",
    "    output_r1 = 'R1_' + str(taxid) + '.fq'\n",
    "    output_r2 = 'R2_' + str(taxid) + '.fq'\n",
    "\n",
    "    refernce_path_gz = list(ngd_metadata.loc[ngd_metadata['taxid'] == taxid]['local_filename'])[0]\n",
    "    refernce_path = refernce_path_gz.replace('.gz','')\n",
    "    \n",
    "    sam_name = 'sam_' + str(taxid) + '.sam'\n",
    "    \n",
    "    ## Running Kraken Tools    \n",
    "    ktools_command = 'extract_kraken_reads.py --fastq-output -t ' + str(taxid)  + ' -k ' + koutput + ' -1 ' + read1 + ' -2 ' + read2 + ' -o ' +  output_r1 + ' -o2 ' + output_r2\n",
    "    os.system('echo ' + ktools_command)\n",
    "    os.system(ktools_command)\n",
    "\n",
    "    ## Running Bowtie2\n",
    "    gunzip = 'gunzip ' + refernce_path_gz\n",
    "    bowtie_build = 'bowtie2-build ' + refernce_path + ' ./bindex/' + str(taxid)\n",
    "    bowtie_map = 'bowtie2 -p ' + threads + ' -x ./bindex/' + str(taxid) + ' -1 ' + output_r1 + ' -2 ' + output_r2 + ' -S ' + sam_name\n",
    "\n",
    "    os.system('echo ' + gunzip)\n",
    "    os.system(gunzip)\n",
    "    os.system('echo ' + bowtie_build)\n",
    "    os.system(bowtie_build)\n",
    "    os.system('echo ' + bowtie_map)\n",
    "    os.system(bowtie_map)"
   ]
  },
  {
   "cell_type": "code",
   "execution_count": 62,
   "id": "247c93cb-9e24-4f5f-85c8-4dcff7b4732e",
   "metadata": {},
   "outputs": [
    {
     "data": {
      "text/plain": [
       "22"
      ]
     },
     "execution_count": 62,
     "metadata": {},
     "output_type": "execute_result"
    }
   ],
   "source": [
    "header = ['percent_frags', 'number_frags_clade', 'number_frags_taxon', 'num_minimizers', 'distinct_minimizers' ,'rank', 'taxid', 'scientific_name']\n",
    "test_kraken = pd.read_csv(\"testing_samples/barcode08_newgenfixed_report.tsv\", sep='\\t', comment='#', names=header)\n",
    "species_subset = test_kraken.loc[(test_kraken['rank'] == 'S') & (test_kraken['number_frags_taxon'] > 100)]\n",
    "len(species_subset)\n",
    "# & (test_kraken['number_frags_taxon'] < 510)"
   ]
  },
  {
   "cell_type": "code",
   "execution_count": 21,
   "id": "b6b5d87b-a9de-431c-a085-e3b2f623bf73",
   "metadata": {},
   "outputs": [
    {
     "name": "stdout",
     "output_type": "stream",
     "text": [
      "usage: ncbi-genome-download [-h] [-s {refseq,genbank}] [-F FILE_FORMATS]\n",
      "                            [-l ASSEMBLY_LEVELS] [-g GENERA] [--genus GENERA]\n",
      "                            [--fuzzy-genus] [-S STRAINS] [-T SPECIES_TAXIDS]\n",
      "                            [-t TAXIDS] [-A ASSEMBLY_ACCESSIONS]\n",
      "                            [--fuzzy-accessions] [-R REFSEQ_CATEGORIES]\n",
      "                            [--refseq-category REFSEQ_CATEGORIES] [-o OUTPUT]\n",
      "                            [--flat-output] [-H] [-P] [-u URI] [-p N] [-r N]\n",
      "                            [-m METADATA_TABLE] [-n] [-N] [-v] [-d] [-V]\n",
      "                            [-M TYPE_MATERIALS]\n",
      "                            groups\n",
      "\n",
      "positional arguments:\n",
      "  groups                The NCBI taxonomic groups to download (default: all).\n",
      "                        A comma-separated list of taxonomic groups is also\n",
      "                        possible. For example: \"bacteria,viral\"Choose from:\n",
      "                        ['all', 'archaea', 'bacteria', 'fungi',\n",
      "                        'invertebrate', 'metagenomes', 'plant', 'protozoa',\n",
      "                        'vertebrate_mammalian', 'vertebrate_other', 'viral']\n",
      "\n",
      "options:\n",
      "  -h, --help            show this help message and exit\n",
      "  -s {refseq,genbank}, --section {refseq,genbank}\n",
      "                        NCBI section to download (default: refseq)\n",
      "  -F FILE_FORMATS, --formats FILE_FORMATS\n",
      "                        Which formats to download (default: genbank).A comma-\n",
      "                        separated list of formats is also possible. For\n",
      "                        example: \"fasta,assembly-report\". Choose from:\n",
      "                        ['genbank', 'fasta', 'rm', 'features', 'gff',\n",
      "                        'protein-fasta', 'genpept', 'wgs', 'cds-fasta', 'rna-\n",
      "                        fna', 'rna-fasta', 'assembly-report', 'assembly-\n",
      "                        stats', 'translated-cds', 'all']\n",
      "  -l ASSEMBLY_LEVELS, --assembly-levels ASSEMBLY_LEVELS\n",
      "                        Assembly levels of genomes to download (default: all).\n",
      "                        A comma-separated list of assembly levels is also\n",
      "                        possible. For example: \"complete,chromosome\". Choose\n",
      "                        from: ['all', 'complete', 'chromosome', 'scaffold',\n",
      "                        'contig']\n",
      "  -g GENERA, --genera GENERA\n",
      "                        Only download sequences of the provided genera. A\n",
      "                        comma-seperated list of genera is also possible. For\n",
      "                        example: \"Streptomyces coelicolor,Escherichia coli\".\n",
      "                        (default: [])\n",
      "  --genus GENERA        Deprecated alias of --genera\n",
      "  --fuzzy-genus         Use a fuzzy search on the organism name instead of an\n",
      "                        exact match.\n",
      "  -S STRAINS, --strains STRAINS\n",
      "                        Only download sequences of the given strain(s). A\n",
      "                        comma-separated list of strain names is possible, as\n",
      "                        well as a path to a filename containing one name per\n",
      "                        line.\n",
      "  -T SPECIES_TAXIDS, --species-taxids SPECIES_TAXIDS\n",
      "                        Only download sequences of the provided species NCBI\n",
      "                        taxonomy IDs. A comma-separated list of species taxids\n",
      "                        is also possible. For example: \"52342,12325\".\n",
      "                        (default: [])\n",
      "  -t TAXIDS, --taxids TAXIDS\n",
      "                        Only download sequences of the provided NCBI taxonomy\n",
      "                        IDs. A comma-separated list of taxids is also\n",
      "                        possible. For example: \"9606,9685\". (default: [])\n",
      "  -A ASSEMBLY_ACCESSIONS, --assembly-accessions ASSEMBLY_ACCESSIONS\n",
      "                        Only download sequences matching the provided NCBI\n",
      "                        assembly accession(s). A comma-separated list of\n",
      "                        accessions is possible, as well as a path to a\n",
      "                        filename containing one accession per line.\n",
      "  --fuzzy-accessions    Use a fuzzy search on the entry accession instead of\n",
      "                        an exact match.\n",
      "  -R REFSEQ_CATEGORIES, --refseq-categories REFSEQ_CATEGORIES\n",
      "                        Only download sequences of the provided refseq\n",
      "                        categories [refrerence, representative, na]. A comma-\n",
      "                        separated list of categories is also possible.\n",
      "                        (default: download all categories)\n",
      "  --refseq-category REFSEQ_CATEGORIES\n",
      "                        Deprecated alias for --refseq-categories\n",
      "  -o OUTPUT, --output-folder OUTPUT\n",
      "                        Create output hierarchy in specified folder (default:\n",
      "                        /mnt/mnt1)\n",
      "  --flat-output         Dump all files right into the output folder without\n",
      "                        creating any subfolders.\n",
      "  -H, --human-readable  Create links in human-readable hierarchy (might fail\n",
      "                        on Windows)\n",
      "  -P, --progress-bar    Create a progress bar for indicating the download\n",
      "                        progress\n",
      "  -u URI, --uri URI     NCBI base URI to use (default:\n",
      "                        https://ftp.ncbi.nih.gov/genomes)\n",
      "  -p N, --parallel N    Run N downloads in parallel (default: 1)\n",
      "  -r N, --retries N     Retry download N times when connection to NCBI fails\n",
      "                        (default: 0)\n",
      "  -m METADATA_TABLE, --metadata-table METADATA_TABLE\n",
      "                        Save tab-delimited file with genome metadata\n",
      "  -n, --dry-run         Only check which files to download, don't download\n",
      "                        genome files.\n",
      "  -N, --no-cache        Don't cache the assembly summary file in\n",
      "                        /root/.cache/ncbi-genome-download.\n",
      "  -v, --verbose         increase output verbosity\n",
      "  -d, --debug           print debugging information\n",
      "  -V, --version         print version information\n",
      "  -M TYPE_MATERIALS, --type-materials TYPE_MATERIALS\n",
      "                        Specifies the relation to type material for the\n",
      "                        assembly (default: any). \"any\" will include assemblies\n",
      "                        with no relation to type material value defined, \"all\"\n",
      "                        will download only assemblies with a defined value. A\n",
      "                        comma-separated list of relatons. For example:\n",
      "                        \"reference,synonym\". Choose from: ['any', 'all',\n",
      "                        'type', 'reference', 'synonym', 'proxytype',\n",
      "                        'neotype'] .\n"
     ]
    }
   ],
   "source": [
    "!ncbi-genome-download -h"
   ]
  },
  {
   "cell_type": "code",
   "execution_count": 71,
   "id": "ec4bfbd2-8aa5-4ef3-a78f-e763f27e46cd",
   "metadata": {},
   "outputs": [
    {
     "name": "stdout",
     "output_type": "stream",
     "text": [
      "['5665', '5664', '5679', '5660', '5671', '562', '573', '28197', '296', '2713414', '28901', '546', '584', '400946', '83771', '158836', '470', '549', '548']\n"
     ]
    }
   ],
   "source": [
    "def load_tsv(filename):\n",
    "    data = []\n",
    "    with open(filename, 'r') as tsvfile:\n",
    "        for line in tsvfile:\n",
    "            data.append(line.strip())\n",
    "    return data\n",
    "\n",
    "filename = 'taxid_list.txt'\n",
    "taxids = load_tsv(filename)\n",
    "print(taxids)"
   ]
  },
  {
   "cell_type": "code",
   "execution_count": 108,
   "id": "e07a321b-391c-4024-9970-f27bf009a321",
   "metadata": {},
   "outputs": [
    {
     "name": "stderr",
     "output_type": "stream",
     "text": [
      "ERROR: No downloads matched your filter. Please check your options.\n"
     ]
    },
    {
     "name": "stdout",
     "output_type": "stream",
     "text": [
      "Error: No representative genome in refseq\n"
     ]
    },
    {
     "name": "stderr",
     "output_type": "stream",
     "text": [
      "ERROR: No downloads matched your filter. Please check your options.\n"
     ]
    },
    {
     "name": "stdout",
     "output_type": "stream",
     "text": [
      "Error: No representative genome in genbank\n"
     ]
    },
    {
     "name": "stderr",
     "output_type": "stream",
     "text": [
      "ERROR: No downloads matched your filter. Please check your options.\n"
     ]
    },
    {
     "name": "stdout",
     "output_type": "stream",
     "text": [
      "Error: No genome in refseq\n",
      "Genome for genbank found\n",
      "GCA_003992435.1\tLeishmania mexicana\t215-49\n"
     ]
    },
    {
     "data": {
      "text/plain": [
       "'GCA_003992435.1'"
      ]
     },
     "execution_count": 108,
     "metadata": {},
     "output_type": "execute_result"
    }
   ],
   "source": [
    "def recurrisve_get_genomes(taxid):\n",
    "    downlaoded_genome = False\n",
    "    \n",
    "    try:\n",
    "        ncbi_down = 'ncbi-genome-download --formats fasta --section refseq -R representative --taxids ' + str(taxid) + ' -n -p 4 -r 4 -m metadata.tsv all'\n",
    "        output = subprocess.check_output(ncbi_down, shell=True)\n",
    "        output_str = output.decode('utf-8')\n",
    "        output_lines = output_str.splitlines()\n",
    "        if len(output_lines) == 2:\n",
    "            print('Representative genomes for reseq found')\n",
    "            print(output_lines[1])\n",
    "            assembly_acc = output_lines[1].split()[0]\n",
    "            downlaoded_genome = True\n",
    "        elif len(output_lines) > 2:\n",
    "            print('More than one Representative genomes for reseq found')\n",
    "            print('Number of Genomes found ' + str((len(output_lines)-1)))\n",
    "            assembly_acc = output_lines[1].split()[0]\n",
    "            downlaoded_genome = True\n",
    "    except subprocess.CalledProcessError as e:\n",
    "        print(\"Error: No representative genome in refseq\")\n",
    "\n",
    "    if downlaoded_genome == False:\n",
    "\n",
    "        try:\n",
    "            ncbi_down = 'ncbi-genome-download --formats fasta --section genbank -R representative --taxids ' + str(taxid) + ' -n -p 4 -r 4 -m metadata.tsv all'\n",
    "            output = subprocess.check_output(ncbi_down, shell=True)\n",
    "            output_str = output.decode('utf-8')\n",
    "            output_lines = output_str.splitlines()\n",
    "            if len(output_lines) == 2:\n",
    "                print('Representative genome for genbank found')\n",
    "                print(output_lines[1])\n",
    "                assembly_acc = output_lines[1].split()[0]\n",
    "                downlaoded_genome = True\n",
    "            elif len(output_lines) > 2:\n",
    "                print('More than one Representative genomes for genbank found')\n",
    "                print('Number of Genomes found ' + str((len(output_lines)-1)))\n",
    "                assembly_acc = output_lines[1].split()[0]\n",
    "                downlaoded_genome = True\n",
    "        except subprocess.CalledProcessError as e:\n",
    "            print(\"Error: No representative genome in genbank\")\n",
    "\n",
    "    if downlaoded_genome == False:\n",
    "\n",
    "        try:\n",
    "            ncbi_down = 'ncbi-genome-download --formats fasta --section refseq --taxids ' + str(taxid) + ' -n -p 4 -r 4 -m metadata.tsv all'\n",
    "            output = subprocess.check_output(ncbi_down, shell=True)\n",
    "            output_str = output.decode('utf-8')\n",
    "            output_lines = output_str.splitlines()\n",
    "            if len(output_lines) == 2:\n",
    "                print('Genome for refseq found')\n",
    "                print(output_lines[1])\n",
    "                assembly_acc = output_lines[1].split()[0]\n",
    "                downlaoded_genome = True\n",
    "            elif len(output_lines) > 2:\n",
    "                print('More than one genome for refseq found')\n",
    "                print('Number of Genomes found ' + str((len(output_lines)-1)))\n",
    "                print(output_lines[1])\n",
    "                assembly_acc = output_lines[1].split()[0]\n",
    "                downlaoded_genome = True\n",
    "        except subprocess.CalledProcessError as e:\n",
    "            print(\"Error: No genome in refseq\")\n",
    "\n",
    "\n",
    "    if downlaoded_genome == False:\n",
    "\n",
    "        try:\n",
    "            ncbi_down = 'ncbi-genome-download --formats fasta --section genbank --taxids ' + str(taxid) + ' -n -p 4 -r 4 -m metadata.tsv all'\n",
    "            output = subprocess.check_output(ncbi_down, shell=True)\n",
    "            output_str = output.decode('utf-8')\n",
    "            output_lines = output_str.splitlines()\n",
    "            if len(output_lines) == 2:\n",
    "                print('Genome for genbank found')\n",
    "                print(output_lines[1])\n",
    "                assembly_acc = output_lines[1].split()[0]\n",
    "                downlaoded_genome = True\n",
    "            elif len(output_lines) > 2:\n",
    "                print('More than one Genomes for genbank found')\n",
    "                print('Number of Genomes found ' + str((len(output_lines)-1)))\n",
    "                print(output_lines[1])\n",
    "                assembly_acc = output_lines[1].split()[0]\n",
    "                downlaoded_genome = True\n",
    "        except subprocess.CalledProcessError as e:\n",
    "            print(\"Error: No genome in genbank\")\n",
    "\n",
    "    if downlaoded_genome == False:\n",
    "        assembly_acc = 'na'\n",
    "\n",
    "    return assembly_acc"
   ]
  },
  {
   "cell_type": "code",
   "execution_count": 109,
   "id": "e0fd1986-6333-49ee-a44f-4eeb7d0d2f64",
   "metadata": {},
   "outputs": [
    {
     "name": "stderr",
     "output_type": "stream",
     "text": [
      "ERROR: No downloads matched your filter. Please check your options.\n"
     ]
    },
    {
     "name": "stdout",
     "output_type": "stream",
     "text": [
      "Error: No representative genome in refseq\n"
     ]
    },
    {
     "name": "stderr",
     "output_type": "stream",
     "text": [
      "ERROR: No downloads matched your filter. Please check your options.\n"
     ]
    },
    {
     "name": "stdout",
     "output_type": "stream",
     "text": [
      "Error: No representative genome in genbank\n"
     ]
    },
    {
     "name": "stderr",
     "output_type": "stream",
     "text": [
      "ERROR: No downloads matched your filter. Please check your options.\n"
     ]
    },
    {
     "name": "stdout",
     "output_type": "stream",
     "text": [
      "Error: No genome in refseq\n",
      "Genome for genbank found\n",
      "GCA_003992435.1\tLeishmania mexicana\t215-49\n"
     ]
    },
    {
     "name": "stderr",
     "output_type": "stream",
     "text": [
      "ERROR: No downloads matched your filter. Please check your options.\n"
     ]
    },
    {
     "name": "stdout",
     "output_type": "stream",
     "text": [
      "Error: No representative genome in refseq\n"
     ]
    },
    {
     "name": "stderr",
     "output_type": "stream",
     "text": [
      "ERROR: No downloads matched your filter. Please check your options.\n"
     ]
    },
    {
     "name": "stdout",
     "output_type": "stream",
     "text": [
      "Error: No representative genome in genbank\n"
     ]
    },
    {
     "name": "stderr",
     "output_type": "stream",
     "text": [
      "ERROR: No downloads matched your filter. Please check your options.\n"
     ]
    },
    {
     "name": "stdout",
     "output_type": "stream",
     "text": [
      "Error: No genome in refseq\n",
      "Genome for genbank found\n",
      "GCA_020783415.1\tLeishmania major\tCulture 1\n",
      "Representative genomes for reseq found\n",
      "GCF_000755165.1\tLeishmania panamensis\tMHOM/PA/94/PSC-1\n"
     ]
    },
    {
     "name": "stderr",
     "output_type": "stream",
     "text": [
      "ERROR: No downloads matched your filter. Please check your options.\n"
     ]
    },
    {
     "name": "stdout",
     "output_type": "stream",
     "text": [
      "Error: No representative genome in refseq\n"
     ]
    },
    {
     "name": "stderr",
     "output_type": "stream",
     "text": [
      "ERROR: No downloads matched your filter. Please check your options.\n"
     ]
    },
    {
     "name": "stdout",
     "output_type": "stream",
     "text": [
      "Error: No representative genome in genbank\n"
     ]
    },
    {
     "name": "stderr",
     "output_type": "stream",
     "text": [
      "ERROR: No downloads matched your filter. Please check your options.\n"
     ]
    },
    {
     "name": "stdout",
     "output_type": "stream",
     "text": [
      "Error: No genome in refseq\n",
      "More than one Genomes for genbank found\n",
      "Number of Genomes found 3\n",
      "GCA_003304975.1\tLeishmania braziliensis\tIOC-L 3564\n"
     ]
    },
    {
     "name": "stderr",
     "output_type": "stream",
     "text": [
      "ERROR: No downloads matched your filter. Please check your options.\n"
     ]
    },
    {
     "name": "stdout",
     "output_type": "stream",
     "text": [
      "Error: No representative genome in refseq\n"
     ]
    },
    {
     "name": "stderr",
     "output_type": "stream",
     "text": [
      "ERROR: No downloads matched your filter. Please check your options.\n"
     ]
    },
    {
     "name": "stdout",
     "output_type": "stream",
     "text": [
      "Error: No representative genome in genbank\n"
     ]
    },
    {
     "name": "stderr",
     "output_type": "stream",
     "text": [
      "ERROR: No downloads matched your filter. Please check your options.\n"
     ]
    },
    {
     "name": "stdout",
     "output_type": "stream",
     "text": [
      "Error: No genome in refseq\n",
      "More than one Genomes for genbank found\n",
      "Number of Genomes found 40\n",
      "GCA_003020905.1\tLeishmania infantum\tTR01\n"
     ]
    },
    {
     "name": "stderr",
     "output_type": "stream",
     "text": [
      "ERROR: No downloads matched your filter. Please check your options.\n"
     ]
    },
    {
     "name": "stdout",
     "output_type": "stream",
     "text": [
      "Error: No representative genome in refseq\n"
     ]
    },
    {
     "name": "stderr",
     "output_type": "stream",
     "text": [
      "ERROR: No downloads matched your filter. Please check your options.\n"
     ]
    },
    {
     "name": "stdout",
     "output_type": "stream",
     "text": [
      "Error: No representative genome in genbank\n"
     ]
    },
    {
     "name": "stderr",
     "output_type": "stream",
     "text": [
      "WARNING: Skipping entry, as it has no ftp directory listed: 'GCF_038069825.1'\n"
     ]
    },
    {
     "name": "stdout",
     "output_type": "stream",
     "text": [
      "More than one genome for refseq found\n",
      "Number of Genomes found 34344\n",
      "GCF_000308975.1\tEscherichia coli\tIMT2125\n"
     ]
    },
    {
     "name": "stderr",
     "output_type": "stream",
     "text": [
      "ERROR: No downloads matched your filter. Please check your options.\n"
     ]
    },
    {
     "name": "stdout",
     "output_type": "stream",
     "text": [
      "Error: No representative genome in refseq\n"
     ]
    },
    {
     "name": "stderr",
     "output_type": "stream",
     "text": [
      "ERROR: No downloads matched your filter. Please check your options.\n"
     ]
    },
    {
     "name": "stdout",
     "output_type": "stream",
     "text": [
      "Error: No representative genome in genbank\n",
      "More than one genome for refseq found\n",
      "Number of Genomes found 18026\n",
      "GCF_000710075.1\tKlebsiella pneumoniae\t5422\n"
     ]
    },
    {
     "name": "stderr",
     "output_type": "stream",
     "text": [
      "ERROR: No downloads matched your filter. Please check your options.\n"
     ]
    },
    {
     "name": "stdout",
     "output_type": "stream",
     "text": [
      "Error: No representative genome in refseq\n"
     ]
    },
    {
     "name": "stderr",
     "output_type": "stream",
     "text": [
      "ERROR: No downloads matched your filter. Please check your options.\n"
     ]
    },
    {
     "name": "stdout",
     "output_type": "stream",
     "text": [
      "Error: No representative genome in genbank\n",
      "More than one genome for refseq found\n",
      "Number of Genomes found 228\n",
      "GCF_900187115.1\tAliarcobacter butzleri\tNCTC 12481\n",
      "Representative genomes for reseq found\n",
      "GCF_015476275.1\tPseudomonas fragi\tNL20W\n"
     ]
    },
    {
     "name": "stderr",
     "output_type": "stream",
     "text": [
      "ERROR: No downloads matched your filter. Please check your options.\n"
     ]
    },
    {
     "name": "stdout",
     "output_type": "stream",
     "text": [
      "Error: No representative genome in refseq\n"
     ]
    },
    {
     "name": "stderr",
     "output_type": "stream",
     "text": [
      "ERROR: No downloads matched your filter. Please check your options.\n"
     ]
    },
    {
     "name": "stdout",
     "output_type": "stream",
     "text": [
      "Error: No representative genome in genbank\n",
      "Genome for refseq found\n",
      "GCF_011058315.1\tChryseobacterium sp. POL2\tPOL2\n"
     ]
    },
    {
     "name": "stderr",
     "output_type": "stream",
     "text": [
      "ERROR: No downloads matched your filter. Please check your options.\n"
     ]
    },
    {
     "name": "stdout",
     "output_type": "stream",
     "text": [
      "Error: No representative genome in refseq\n"
     ]
    },
    {
     "name": "stderr",
     "output_type": "stream",
     "text": [
      "ERROR: No downloads matched your filter. Please check your options.\n"
     ]
    },
    {
     "name": "stdout",
     "output_type": "stream",
     "text": [
      "Error: No representative genome in genbank\n",
      "More than one genome for refseq found\n",
      "Number of Genomes found 2978\n",
      "GCF_001078155.1\tSalmonella enterica\tSal25\n",
      "Representative genomes for reseq found\n",
      "GCF_904859905.1\tCitrobacter freundii\tMSB1_1H\n"
     ]
    },
    {
     "name": "stderr",
     "output_type": "stream",
     "text": [
      "ERROR: No downloads matched your filter. Please check your options.\n"
     ]
    },
    {
     "name": "stdout",
     "output_type": "stream",
     "text": [
      "Error: No representative genome in refseq\n"
     ]
    },
    {
     "name": "stderr",
     "output_type": "stream",
     "text": [
      "ERROR: No downloads matched your filter. Please check your options.\n"
     ]
    },
    {
     "name": "stdout",
     "output_type": "stream",
     "text": [
      "Error: No representative genome in genbank\n",
      "More than one genome for refseq found\n",
      "Number of Genomes found 956\n",
      "GCF_000770765.1\tProteus mirabilis\tPm-Oxa48\n",
      "Representative genomes for reseq found\n",
      "GCF_002252325.1\tWohlfahrtiimonas chitiniclastica\tATCC 51249\n",
      "Representative genomes for reseq found\n",
      "GCF_016747875.1\tSuccinivibrio dextrinosolvens\tASCUSBF53\n"
     ]
    },
    {
     "name": "stderr",
     "output_type": "stream",
     "text": [
      "ERROR: No downloads matched your filter. Please check your options.\n"
     ]
    },
    {
     "name": "stdout",
     "output_type": "stream",
     "text": [
      "Error: No representative genome in refseq\n"
     ]
    },
    {
     "name": "stderr",
     "output_type": "stream",
     "text": [
      "ERROR: No downloads matched your filter. Please check your options.\n"
     ]
    },
    {
     "name": "stdout",
     "output_type": "stream",
     "text": [
      "Error: No representative genome in genbank\n",
      "More than one genome for refseq found\n",
      "Number of Genomes found 2604\n",
      "GCF_000315775.1\tEnterobacter hormaechei\t08XA1\n",
      "Representative genomes for reseq found\n",
      "GCF_008632635.1\tAcinetobacter baumannii\tK09-14\n",
      "Representative genomes for reseq found\n",
      "GCF_019048385.1\tPantoea agglomerans\tFDAARGOS 1447\n",
      "Representative genomes for reseq found\n",
      "GCF_007632255.1\tKlebsiella aerogenes\tKa37751\n"
     ]
    }
   ],
   "source": [
    "taxid_ls = []\n",
    "assembly_acc_ls = []\n",
    "\n",
    "for taxid in taxids:\n",
    "    assembly_acc_ls.append(recurrisve_get_genomes(taxid))\n",
    "    taxid_ls.append(taxid)"
   ]
  },
  {
   "cell_type": "code",
   "execution_count": 111,
   "id": "a2f50783-a704-4ec5-af51-6576d1e51537",
   "metadata": {},
   "outputs": [
    {
     "name": "stdout",
     "output_type": "stream",
     "text": [
      "19\n",
      "19\n",
      "['GCA_003992435.1', 'GCA_020783415.1', 'GCF_000755165.1', 'GCA_003304975.1', 'GCA_003020905.1', 'GCF_000308975.1', 'GCF_000710075.1', 'GCF_900187115.1', 'GCF_015476275.1', 'GCF_011058315.1', 'GCF_001078155.1', 'GCF_904859905.1', 'GCF_000770765.1', 'GCF_002252325.1', 'GCF_016747875.1', 'GCF_000315775.1', 'GCF_008632635.1', 'GCF_019048385.1', 'GCF_007632255.1']\n"
     ]
    }
   ],
   "source": [
    "print(len(assembly_acc_ls))\n",
    "print(len(taxid_ls))\n",
    "print(assembly_acc_ls)"
   ]
  },
  {
   "cell_type": "code",
   "execution_count": 119,
   "id": "17315711-189e-4b79-8bb3-f7b1f964926f",
   "metadata": {},
   "outputs": [
    {
     "name": "stdout",
     "output_type": "stream",
     "text": [
      "4\n",
      "15\n",
      "19\n"
     ]
    }
   ],
   "source": [
    "ncbi_down_gen = 'ncbi-genome-download --section genbank --formats fasta -A ' + str(','.join(assembly_acc_ls)) + ' -p 4 -r 4 -m metadata_genbank.tsv all'\n",
    "os.system(ncbi_down_gen)\n",
    "ncbi_down_ref = 'ncbi-genome-download --section refseq --formats fasta -A ' + str(','.join(assembly_acc_ls)) + ' -p 4 -r 4 -m metadata_refseq.tsv all'\n",
    "os.system(ncbi_down_ref)\n",
    "ngd_metadata_gen = pd.read_csv(\"metadata_genbank.tsv\", sep='\\t')\n",
    "ngd_metadata_ref = pd.read_csv(\"metadata_refseq.tsv\", sep='\\t')\n",
    "print(len(ngd_metadata_gen))\n",
    "print(len(ngd_metadata_ref))\n",
    "ngd_metadata_all = pd.concat([ngd_metadata_gen,ngd_metadata_ref])\n",
    "print(len(ngd_metadata_all))"
   ]
  },
  {
   "cell_type": "code",
   "execution_count": 121,
   "id": "0fb50444-de1b-48c2-97b5-d58de4c122e1",
   "metadata": {},
   "outputs": [
    {
     "data": {
      "text/html": [
       "<div>\n",
       "<style scoped>\n",
       "    .dataframe tbody tr th:only-of-type {\n",
       "        vertical-align: middle;\n",
       "    }\n",
       "\n",
       "    .dataframe tbody tr th {\n",
       "        vertical-align: top;\n",
       "    }\n",
       "\n",
       "    .dataframe thead th {\n",
       "        text-align: right;\n",
       "    }\n",
       "</style>\n",
       "<table border=\"1\" class=\"dataframe\">\n",
       "  <thead>\n",
       "    <tr style=\"text-align: right;\">\n",
       "      <th></th>\n",
       "      <th>assembly_accession</th>\n",
       "      <th>bioproject</th>\n",
       "      <th>biosample</th>\n",
       "      <th>wgs_master</th>\n",
       "      <th>excluded_from_refseq</th>\n",
       "      <th>refseq_category</th>\n",
       "      <th>relation_to_type_material</th>\n",
       "      <th>taxid</th>\n",
       "      <th>species_taxid</th>\n",
       "      <th>organism_name</th>\n",
       "      <th>...</th>\n",
       "      <th>assembly_level</th>\n",
       "      <th>release_type</th>\n",
       "      <th>genome_rep</th>\n",
       "      <th>seq_rel_date</th>\n",
       "      <th>asm_name</th>\n",
       "      <th>submitter</th>\n",
       "      <th>gbrs_paired_asm</th>\n",
       "      <th>paired_asm_comp</th>\n",
       "      <th>ftp_path</th>\n",
       "      <th>local_filename</th>\n",
       "    </tr>\n",
       "  </thead>\n",
       "  <tbody>\n",
       "    <tr>\n",
       "      <th>0</th>\n",
       "      <td>GCA_003304975.1</td>\n",
       "      <td>PRJNA454506</td>\n",
       "      <td>SAMN09009547</td>\n",
       "      <td>QFBG00000000.1</td>\n",
       "      <td>na</td>\n",
       "      <td>na</td>\n",
       "      <td>na</td>\n",
       "      <td>5660</td>\n",
       "      <td>5660</td>\n",
       "      <td>Leishmania braziliensis</td>\n",
       "      <td>...</td>\n",
       "      <td>Chromosome</td>\n",
       "      <td>Major</td>\n",
       "      <td>Full</td>\n",
       "      <td>2018/07/11</td>\n",
       "      <td>IOC-L_3564</td>\n",
       "      <td>NaN</td>\n",
       "      <td>na</td>\n",
       "      <td>na</td>\n",
       "      <td>https://ftp.ncbi.nlm.nih.gov/genomes/all/GCA/0...</td>\n",
       "      <td>./genbank/protozoa/GCA_003304975.1/GCA_0033049...</td>\n",
       "    </tr>\n",
       "    <tr>\n",
       "      <th>1</th>\n",
       "      <td>GCA_020783415.1</td>\n",
       "      <td>PRJNA763067</td>\n",
       "      <td>SAMN21422215</td>\n",
       "      <td>na</td>\n",
       "      <td>na</td>\n",
       "      <td>na</td>\n",
       "      <td>na</td>\n",
       "      <td>5664</td>\n",
       "      <td>5664</td>\n",
       "      <td>Leishmania major</td>\n",
       "      <td>...</td>\n",
       "      <td>Chromosome</td>\n",
       "      <td>Major</td>\n",
       "      <td>Full</td>\n",
       "      <td>2021/11/07</td>\n",
       "      <td>ASM2078341v1</td>\n",
       "      <td>NaN</td>\n",
       "      <td>na</td>\n",
       "      <td>na</td>\n",
       "      <td>https://ftp.ncbi.nlm.nih.gov/genomes/all/GCA/0...</td>\n",
       "      <td>./genbank/protozoa/GCA_020783415.1/GCA_0207834...</td>\n",
       "    </tr>\n",
       "    <tr>\n",
       "      <th>2</th>\n",
       "      <td>GCA_003992435.1</td>\n",
       "      <td>PRJNA484340</td>\n",
       "      <td>SAMN09984810</td>\n",
       "      <td>RZOC00000000.1</td>\n",
       "      <td>na</td>\n",
       "      <td>na</td>\n",
       "      <td>na</td>\n",
       "      <td>5665</td>\n",
       "      <td>5665</td>\n",
       "      <td>Leishmania mexicana</td>\n",
       "      <td>...</td>\n",
       "      <td>Contig</td>\n",
       "      <td>Major</td>\n",
       "      <td>Full</td>\n",
       "      <td>2019/01/04</td>\n",
       "      <td>ASM399243v1</td>\n",
       "      <td>NaN</td>\n",
       "      <td>na</td>\n",
       "      <td>na</td>\n",
       "      <td>https://ftp.ncbi.nlm.nih.gov/genomes/all/GCA/0...</td>\n",
       "      <td>./genbank/protozoa/GCA_003992435.1/GCA_0039924...</td>\n",
       "    </tr>\n",
       "    <tr>\n",
       "      <th>3</th>\n",
       "      <td>GCA_003020905.1</td>\n",
       "      <td>PRJNA437593</td>\n",
       "      <td>SAMN08583618</td>\n",
       "      <td>na</td>\n",
       "      <td>na</td>\n",
       "      <td>na</td>\n",
       "      <td>na</td>\n",
       "      <td>5671</td>\n",
       "      <td>5671</td>\n",
       "      <td>Leishmania infantum</td>\n",
       "      <td>...</td>\n",
       "      <td>Complete Genome</td>\n",
       "      <td>Major</td>\n",
       "      <td>Full</td>\n",
       "      <td>2018/03/27</td>\n",
       "      <td>ASM302090v1</td>\n",
       "      <td>NaN</td>\n",
       "      <td>na</td>\n",
       "      <td>na</td>\n",
       "      <td>https://ftp.ncbi.nlm.nih.gov/genomes/all/GCA/0...</td>\n",
       "      <td>./genbank/protozoa/GCA_003020905.1/GCA_0030209...</td>\n",
       "    </tr>\n",
       "    <tr>\n",
       "      <th>0</th>\n",
       "      <td>GCF_015476275.1</td>\n",
       "      <td>PRJNA224116</td>\n",
       "      <td>SAMN16674530</td>\n",
       "      <td>na</td>\n",
       "      <td>na</td>\n",
       "      <td>representative genome</td>\n",
       "      <td>na</td>\n",
       "      <td>296</td>\n",
       "      <td>296</td>\n",
       "      <td>Pseudomonas fragi</td>\n",
       "      <td>...</td>\n",
       "      <td>Complete Genome</td>\n",
       "      <td>Major</td>\n",
       "      <td>Full</td>\n",
       "      <td>2020/11/15</td>\n",
       "      <td>ASM1547627v1</td>\n",
       "      <td>NaN</td>\n",
       "      <td>GCA_015476275.1</td>\n",
       "      <td>identical</td>\n",
       "      <td>https://ftp.ncbi.nlm.nih.gov/genomes/all/GCF/0...</td>\n",
       "      <td>./refseq/bacteria/GCF_015476275.1/GCF_01547627...</td>\n",
       "    </tr>\n",
       "    <tr>\n",
       "      <th>1</th>\n",
       "      <td>GCF_008632635.1</td>\n",
       "      <td>PRJNA224116</td>\n",
       "      <td>SAMN12769618</td>\n",
       "      <td>na</td>\n",
       "      <td>na</td>\n",
       "      <td>representative genome</td>\n",
       "      <td>na</td>\n",
       "      <td>470</td>\n",
       "      <td>470</td>\n",
       "      <td>Acinetobacter baumannii</td>\n",
       "      <td>...</td>\n",
       "      <td>Complete Genome</td>\n",
       "      <td>Major</td>\n",
       "      <td>Full</td>\n",
       "      <td>2019/09/23</td>\n",
       "      <td>ASM863263v1</td>\n",
       "      <td>NaN</td>\n",
       "      <td>GCA_008632635.1</td>\n",
       "      <td>identical</td>\n",
       "      <td>https://ftp.ncbi.nlm.nih.gov/genomes/all/GCF/0...</td>\n",
       "      <td>./refseq/bacteria/GCF_008632635.1/GCF_00863263...</td>\n",
       "    </tr>\n",
       "    <tr>\n",
       "      <th>2</th>\n",
       "      <td>GCF_904859905.1</td>\n",
       "      <td>PRJNA224116</td>\n",
       "      <td>SAMEA3357462</td>\n",
       "      <td>na</td>\n",
       "      <td>na</td>\n",
       "      <td>representative genome</td>\n",
       "      <td>na</td>\n",
       "      <td>546</td>\n",
       "      <td>546</td>\n",
       "      <td>Citrobacter freundii</td>\n",
       "      <td>...</td>\n",
       "      <td>Complete Genome</td>\n",
       "      <td>Major</td>\n",
       "      <td>Full</td>\n",
       "      <td>2020/11/01</td>\n",
       "      <td>MSB1_1H</td>\n",
       "      <td>NaN</td>\n",
       "      <td>GCA_904859905.1</td>\n",
       "      <td>identical</td>\n",
       "      <td>https://ftp.ncbi.nlm.nih.gov/genomes/all/GCF/9...</td>\n",
       "      <td>./refseq/bacteria/GCF_904859905.1/GCF_90485990...</td>\n",
       "    </tr>\n",
       "    <tr>\n",
       "      <th>3</th>\n",
       "      <td>GCF_007632255.1</td>\n",
       "      <td>PRJNA224116</td>\n",
       "      <td>SAMN12330869</td>\n",
       "      <td>na</td>\n",
       "      <td>na</td>\n",
       "      <td>representative genome</td>\n",
       "      <td>na</td>\n",
       "      <td>548</td>\n",
       "      <td>548</td>\n",
       "      <td>Klebsiella aerogenes</td>\n",
       "      <td>...</td>\n",
       "      <td>Complete Genome</td>\n",
       "      <td>Major</td>\n",
       "      <td>Full</td>\n",
       "      <td>2019/07/30</td>\n",
       "      <td>ASM763225v1</td>\n",
       "      <td>NaN</td>\n",
       "      <td>GCA_007632255.1</td>\n",
       "      <td>identical</td>\n",
       "      <td>https://ftp.ncbi.nlm.nih.gov/genomes/all/GCF/0...</td>\n",
       "      <td>./refseq/bacteria/GCF_007632255.1/GCF_00763225...</td>\n",
       "    </tr>\n",
       "    <tr>\n",
       "      <th>4</th>\n",
       "      <td>GCF_019048385.1</td>\n",
       "      <td>PRJNA224116</td>\n",
       "      <td>SAMN16357589</td>\n",
       "      <td>na</td>\n",
       "      <td>na</td>\n",
       "      <td>representative genome</td>\n",
       "      <td>assembly from type material</td>\n",
       "      <td>549</td>\n",
       "      <td>549</td>\n",
       "      <td>Pantoea agglomerans</td>\n",
       "      <td>...</td>\n",
       "      <td>Complete Genome</td>\n",
       "      <td>Major</td>\n",
       "      <td>Full</td>\n",
       "      <td>2021/06/28</td>\n",
       "      <td>ASM1904838v1</td>\n",
       "      <td>NaN</td>\n",
       "      <td>GCA_019048385.1</td>\n",
       "      <td>identical</td>\n",
       "      <td>https://ftp.ncbi.nlm.nih.gov/genomes/all/GCF/0...</td>\n",
       "      <td>./refseq/bacteria/GCF_019048385.1/GCF_01904838...</td>\n",
       "    </tr>\n",
       "    <tr>\n",
       "      <th>5</th>\n",
       "      <td>GCF_000308975.1</td>\n",
       "      <td>PRJNA224116</td>\n",
       "      <td>SAMEA2272029</td>\n",
       "      <td>CAJT00000000.1</td>\n",
       "      <td>na</td>\n",
       "      <td>na</td>\n",
       "      <td>na</td>\n",
       "      <td>562</td>\n",
       "      <td>562</td>\n",
       "      <td>Escherichia coli</td>\n",
       "      <td>...</td>\n",
       "      <td>Scaffold</td>\n",
       "      <td>Major</td>\n",
       "      <td>Full</td>\n",
       "      <td>2012/11/09</td>\n",
       "      <td>ASM30897v2</td>\n",
       "      <td>NaN</td>\n",
       "      <td>GCA_000308975.2</td>\n",
       "      <td>identical</td>\n",
       "      <td>https://ftp.ncbi.nlm.nih.gov/genomes/all/GCF/0...</td>\n",
       "      <td>./refseq/bacteria/GCF_000308975.1/GCF_00030897...</td>\n",
       "    </tr>\n",
       "  </tbody>\n",
       "</table>\n",
       "<p>10 rows × 23 columns</p>\n",
       "</div>"
      ],
      "text/plain": [
       "  assembly_accession   bioproject     biosample      wgs_master  \\\n",
       "0    GCA_003304975.1  PRJNA454506  SAMN09009547  QFBG00000000.1   \n",
       "1    GCA_020783415.1  PRJNA763067  SAMN21422215              na   \n",
       "2    GCA_003992435.1  PRJNA484340  SAMN09984810  RZOC00000000.1   \n",
       "3    GCA_003020905.1  PRJNA437593  SAMN08583618              na   \n",
       "0    GCF_015476275.1  PRJNA224116  SAMN16674530              na   \n",
       "1    GCF_008632635.1  PRJNA224116  SAMN12769618              na   \n",
       "2    GCF_904859905.1  PRJNA224116  SAMEA3357462              na   \n",
       "3    GCF_007632255.1  PRJNA224116  SAMN12330869              na   \n",
       "4    GCF_019048385.1  PRJNA224116  SAMN16357589              na   \n",
       "5    GCF_000308975.1  PRJNA224116  SAMEA2272029  CAJT00000000.1   \n",
       "\n",
       "  excluded_from_refseq        refseq_category    relation_to_type_material  \\\n",
       "0                   na                     na                           na   \n",
       "1                   na                     na                           na   \n",
       "2                   na                     na                           na   \n",
       "3                   na                     na                           na   \n",
       "0                   na  representative genome                           na   \n",
       "1                   na  representative genome                           na   \n",
       "2                   na  representative genome                           na   \n",
       "3                   na  representative genome                           na   \n",
       "4                   na  representative genome  assembly from type material   \n",
       "5                   na                     na                           na   \n",
       "\n",
       "   taxid  species_taxid            organism_name  ...   assembly_level  \\\n",
       "0   5660           5660  Leishmania braziliensis  ...       Chromosome   \n",
       "1   5664           5664         Leishmania major  ...       Chromosome   \n",
       "2   5665           5665      Leishmania mexicana  ...           Contig   \n",
       "3   5671           5671      Leishmania infantum  ...  Complete Genome   \n",
       "0    296            296        Pseudomonas fragi  ...  Complete Genome   \n",
       "1    470            470  Acinetobacter baumannii  ...  Complete Genome   \n",
       "2    546            546     Citrobacter freundii  ...  Complete Genome   \n",
       "3    548            548     Klebsiella aerogenes  ...  Complete Genome   \n",
       "4    549            549      Pantoea agglomerans  ...  Complete Genome   \n",
       "5    562            562         Escherichia coli  ...         Scaffold   \n",
       "\n",
       "  release_type genome_rep seq_rel_date      asm_name submitter  \\\n",
       "0        Major       Full   2018/07/11    IOC-L_3564       NaN   \n",
       "1        Major       Full   2021/11/07  ASM2078341v1       NaN   \n",
       "2        Major       Full   2019/01/04   ASM399243v1       NaN   \n",
       "3        Major       Full   2018/03/27   ASM302090v1       NaN   \n",
       "0        Major       Full   2020/11/15  ASM1547627v1       NaN   \n",
       "1        Major       Full   2019/09/23   ASM863263v1       NaN   \n",
       "2        Major       Full   2020/11/01       MSB1_1H       NaN   \n",
       "3        Major       Full   2019/07/30   ASM763225v1       NaN   \n",
       "4        Major       Full   2021/06/28  ASM1904838v1       NaN   \n",
       "5        Major       Full   2012/11/09    ASM30897v2       NaN   \n",
       "\n",
       "   gbrs_paired_asm paired_asm_comp  \\\n",
       "0               na              na   \n",
       "1               na              na   \n",
       "2               na              na   \n",
       "3               na              na   \n",
       "0  GCA_015476275.1       identical   \n",
       "1  GCA_008632635.1       identical   \n",
       "2  GCA_904859905.1       identical   \n",
       "3  GCA_007632255.1       identical   \n",
       "4  GCA_019048385.1       identical   \n",
       "5  GCA_000308975.2       identical   \n",
       "\n",
       "                                            ftp_path  \\\n",
       "0  https://ftp.ncbi.nlm.nih.gov/genomes/all/GCA/0...   \n",
       "1  https://ftp.ncbi.nlm.nih.gov/genomes/all/GCA/0...   \n",
       "2  https://ftp.ncbi.nlm.nih.gov/genomes/all/GCA/0...   \n",
       "3  https://ftp.ncbi.nlm.nih.gov/genomes/all/GCA/0...   \n",
       "0  https://ftp.ncbi.nlm.nih.gov/genomes/all/GCF/0...   \n",
       "1  https://ftp.ncbi.nlm.nih.gov/genomes/all/GCF/0...   \n",
       "2  https://ftp.ncbi.nlm.nih.gov/genomes/all/GCF/9...   \n",
       "3  https://ftp.ncbi.nlm.nih.gov/genomes/all/GCF/0...   \n",
       "4  https://ftp.ncbi.nlm.nih.gov/genomes/all/GCF/0...   \n",
       "5  https://ftp.ncbi.nlm.nih.gov/genomes/all/GCF/0...   \n",
       "\n",
       "                                      local_filename  \n",
       "0  ./genbank/protozoa/GCA_003304975.1/GCA_0033049...  \n",
       "1  ./genbank/protozoa/GCA_020783415.1/GCA_0207834...  \n",
       "2  ./genbank/protozoa/GCA_003992435.1/GCA_0039924...  \n",
       "3  ./genbank/protozoa/GCA_003020905.1/GCA_0030209...  \n",
       "0  ./refseq/bacteria/GCF_015476275.1/GCF_01547627...  \n",
       "1  ./refseq/bacteria/GCF_008632635.1/GCF_00863263...  \n",
       "2  ./refseq/bacteria/GCF_904859905.1/GCF_90485990...  \n",
       "3  ./refseq/bacteria/GCF_007632255.1/GCF_00763225...  \n",
       "4  ./refseq/bacteria/GCF_019048385.1/GCF_01904838...  \n",
       "5  ./refseq/bacteria/GCF_000308975.1/GCF_00030897...  \n",
       "\n",
       "[10 rows x 23 columns]"
      ]
     },
     "execution_count": 121,
     "metadata": {},
     "output_type": "execute_result"
    }
   ],
   "source": [
    "ngd_metadata_all.head(10)"
   ]
  },
  {
   "cell_type": "code",
   "execution_count": 135,
   "id": "015c653d-8f5e-4650-aac5-27b61e15f6f9",
   "metadata": {},
   "outputs": [
    {
     "data": {
      "text/plain": [
       "0              Leishmania braziliensis\n",
       "1                     Leishmania major\n",
       "2                  Leishmania mexicana\n",
       "3                  Leishmania infantum\n",
       "0                    Pseudomonas fragi\n",
       "1              Acinetobacter baumannii\n",
       "2                 Citrobacter freundii\n",
       "3                 Klebsiella aerogenes\n",
       "4                  Pantoea agglomerans\n",
       "5                     Escherichia coli\n",
       "6                Klebsiella pneumoniae\n",
       "7                    Proteus mirabilis\n",
       "8               Aliarcobacter butzleri\n",
       "9                  Salmonella enterica\n",
       "10       Succinivibrio dextrinosolvens\n",
       "11             Enterobacter hormaechei\n",
       "12    Wohlfahrtiimonas chitiniclastica\n",
       "13           Chryseobacterium sp. POL2\n",
       "14               Leishmania panamensis\n",
       "Name: organism_name, dtype: object"
      ]
     },
     "execution_count": 135,
     "metadata": {},
     "output_type": "execute_result"
    }
   ],
   "source": [
    "ngd_metadata_all['organism_name']"
   ]
  },
  {
   "cell_type": "code",
   "execution_count": 180,
   "id": "ae07818d-3da9-43de-9ced-bdcc36c5bad9",
   "metadata": {},
   "outputs": [
    {
     "name": "stdout",
     "output_type": "stream",
     "text": [
      "extract_kraken_reads.py --include-children --fastq-output -t 5660 -r testing_samples/rural4/rural_4_report.tsv -k testing_samples/rural4/rural_4_out.tsv -1 testing_samples/rural4/rural_4_readsubset.fastq -o ./readsubsets/taxid/R1_5660.fq\n",
      "PROGRAM START TIME: 04-17-2024 18:20:44\n",
      ">> STEP 0: PARSING REPORT FILE testing_samples/rural4/rural_4_report.tsv\n",
      "\t1 taxonomy IDs to parse\n",
      ">> STEP 1: PARSING KRAKEN FILE FOR READIDS testing_samples/rural4/rural_4_out.tsv\n",
      "\t0.02 million reads processed\n",
      "\t0 read IDs saved\n",
      ">> STEP 2: READING SEQUENCE FILES AND WRITING READS\n",
      "\t0 read IDs found (0.00 mill reads processed)\n",
      "\t0 reads printed to file\n",
      "\tGenerated file: ./readsubsets/taxid/R1_5660.fq\n",
      "PROGRAM END TIME: 04-17-2024 18:20:44\n",
      "gunzip ./genbank/protozoa/GCA_003304975.1/GCA_003304975.1_IOC-L_3564_genomic.fna.gz\n"
     ]
    },
    {
     "name": "stderr",
     "output_type": "stream",
     "text": [
      "gzip: ./genbank/protozoa/GCA_003304975.1/GCA_003304975.1_IOC-L_3564_genomic.fna.gz: No such file or directory\n",
      "[M::mm_idx_gen::0.428*0.99] collected minimizers\n",
      "[M::mm_idx_gen::0.486*1.22] sorted minimizers\n",
      "[M::main::0.486*1.22] loaded/built the index for 1029 target sequence(s)\n",
      "[M::mm_mapopt_update::0.514*1.20] mid_occ = 50\n",
      "[M::mm_idx_stat] kmer size: 19; skip: 19; is_hpc: 0; #seq: 1029\n",
      "[M::mm_idx_stat::0.532*1.20] distinct minimizers: 2821423 (79.18% are singletons); average occurrences: 1.237; average spacing: 10.891; total length: 38003648\n",
      "[M::main] Version: 2.27-r1193\n",
      "[M::main] CMD: minimap2 -ax lr:hq ./genbank/protozoa/GCA_003304975.1/GCA_003304975.1_IOC-L_3564_genomic.fna ./readsubsets/taxid/R1_5660.fq\n",
      "[M::main] Real time: 0.537 sec; CPU: 0.642 sec; Peak RSS: 0.167 GB\n"
     ]
    },
    {
     "name": "stdout",
     "output_type": "stream",
     "text": [
      "samtools view -c -F 260 ./tmp_files/sam_Leishmania_braziliensis.sam\n",
      "0\n",
      "samtools view -S -b ./tmp_files/sam_Leishmania_braziliensis.sam -o ./tmp_files/bam_Leishmania_braziliensis.bam\n",
      "samtools sort ./tmp_files/bam_Leishmania_braziliensis.bam -o ./alignments/Leishmania_braziliensis/sorted_bam_Leishmania_braziliensis.bam\n",
      "samtools index ./alignments/Leishmania_braziliensis/sorted_bam_Leishmania_braziliensis.bam\n",
      "extract_kraken_reads.py --include-children --fastq-output -t 5664 -r testing_samples/rural4/rural_4_report.tsv -k testing_samples/rural4/rural_4_out.tsv -1 testing_samples/rural4/rural_4_readsubset.fastq -o ./readsubsets/taxid/R1_5664.fq\n",
      "PROGRAM START TIME: 04-17-2024 18:20:45\n",
      ">> STEP 0: PARSING REPORT FILE testing_samples/rural4/rural_4_report.tsv\n",
      "\t2 taxonomy IDs to parse\n",
      ">> STEP 1: PARSING KRAKEN FILE FOR READIDS testing_samples/rural4/rural_4_out.tsv\n",
      "\t0.02 million reads processed\n",
      "\t7 read IDs saved\n",
      ">> STEP 2: READING SEQUENCE FILES AND WRITING READS\n",
      "\t7 read IDs found (0.02 mill reads processed)\n",
      "\t7 reads printed to file\n",
      "\tGenerated file: ./readsubsets/taxid/R1_5664.fq\n",
      "PROGRAM END TIME: 04-17-2024 18:20:46\n",
      "gunzip ./genbank/protozoa/GCA_020783415.1/GCA_020783415.1_ASM2078341v1_genomic.fna.gz\n"
     ]
    },
    {
     "name": "stderr",
     "output_type": "stream",
     "text": [
      "gzip: ./genbank/protozoa/GCA_020783415.1/GCA_020783415.1_ASM2078341v1_genomic.fna.gz: No such file or directory\n",
      "[M::mm_idx_gen::0.374*0.98] collected minimizers\n",
      "[M::mm_idx_gen::0.432*1.24] sorted minimizers\n",
      "[M::main::0.432*1.24] loaded/built the index for 36 target sequence(s)\n",
      "[M::mm_mapopt_update::0.456*1.23] mid_occ = 50\n",
      "[M::mm_idx_stat] kmer size: 19; skip: 19; is_hpc: 0; #seq: 36\n",
      "[M::mm_idx_stat::0.472*1.22] distinct minimizers: 2982961 (96.66% are singletons); average occurrences: 1.095; average spacing: 10.057; total length: 32854833\n",
      "[M::worker_pipeline::0.480*1.22] mapped 7 sequences\n",
      "[M::main] Version: 2.27-r1193\n",
      "[M::main] CMD: minimap2 -ax lr:hq ./genbank/protozoa/GCA_020783415.1/GCA_020783415.1_ASM2078341v1_genomic.fna ./readsubsets/taxid/R1_5664.fq\n",
      "[M::main] Real time: 0.487 sec; CPU: 0.593 sec; Peak RSS: 0.165 GB\n"
     ]
    },
    {
     "name": "stdout",
     "output_type": "stream",
     "text": [
      "samtools view -c -F 260 ./tmp_files/sam_Leishmania_major.sam\n",
      "3\n",
      "samtools view -S -b ./tmp_files/sam_Leishmania_major.sam -o ./tmp_files/bam_Leishmania_major.bam\n",
      "samtools sort ./tmp_files/bam_Leishmania_major.bam -o ./alignments/Leishmania_major/sorted_bam_Leishmania_major.bam\n",
      "samtools index ./alignments/Leishmania_major/sorted_bam_Leishmania_major.bam\n",
      "extract_kraken_reads.py --include-children --fastq-output -t 5665 -r testing_samples/rural4/rural_4_report.tsv -k testing_samples/rural4/rural_4_out.tsv -1 testing_samples/rural4/rural_4_readsubset.fastq -o ./readsubsets/taxid/R1_5665.fq\n",
      "PROGRAM START TIME: 04-17-2024 18:20:46\n",
      ">> STEP 0: PARSING REPORT FILE testing_samples/rural4/rural_4_report.tsv\n",
      "\t2 taxonomy IDs to parse\n",
      ">> STEP 1: PARSING KRAKEN FILE FOR READIDS testing_samples/rural4/rural_4_out.tsv\n",
      "\t0.02 million reads processed\n",
      "\t16 read IDs saved\n",
      ">> STEP 2: READING SEQUENCE FILES AND WRITING READS\n",
      "\t16 read IDs found (0.02 mill reads processed)\n",
      "\t16 reads printed to file\n",
      "\tGenerated file: ./readsubsets/taxid/R1_5665.fq\n",
      "PROGRAM END TIME: 04-17-2024 18:20:47\n",
      "gunzip ./genbank/protozoa/GCA_003992435.1/GCA_003992435.1_ASM399243v1_genomic.fna.gz\n"
     ]
    },
    {
     "name": "stderr",
     "output_type": "stream",
     "text": [
      "gzip: ./genbank/protozoa/GCA_003992435.1/GCA_003992435.1_ASM399243v1_genomic.fna.gz: No such file or directory\n",
      "[M::mm_idx_gen::0.350*0.99] collected minimizers\n",
      "[M::mm_idx_gen::0.407*1.26] sorted minimizers\n",
      "[M::main::0.407*1.26] loaded/built the index for 55 target sequence(s)\n",
      "[M::mm_mapopt_update::0.430*1.24] mid_occ = 50\n",
      "[M::mm_idx_stat] kmer size: 19; skip: 19; is_hpc: 0; #seq: 55\n",
      "[M::mm_idx_stat::0.447*1.23] distinct minimizers: 2951422 (96.49% are singletons); average occurrences: 1.087; average spacing: 9.993; total length: 32057209\n",
      "[M::worker_pipeline::0.468*1.27] mapped 16 sequences\n",
      "[M::main] Version: 2.27-r1193\n",
      "[M::main] CMD: minimap2 -ax lr:hq ./genbank/protozoa/GCA_003992435.1/GCA_003992435.1_ASM399243v1_genomic.fna ./readsubsets/taxid/R1_5665.fq\n",
      "[M::main] Real time: 0.474 sec; CPU: 0.599 sec; Peak RSS: 0.203 GB\n"
     ]
    },
    {
     "name": "stdout",
     "output_type": "stream",
     "text": [
      "samtools view -c -F 260 ./tmp_files/sam_Leishmania_mexicana.sam\n",
      "17\n",
      "samtools view -S -b ./tmp_files/sam_Leishmania_mexicana.sam -o ./tmp_files/bam_Leishmania_mexicana.bam\n",
      "samtools sort ./tmp_files/bam_Leishmania_mexicana.bam -o ./alignments/Leishmania_mexicana/sorted_bam_Leishmania_mexicana.bam\n",
      "samtools index ./alignments/Leishmania_mexicana/sorted_bam_Leishmania_mexicana.bam\n",
      "extract_kraken_reads.py --include-children --fastq-output -t 5671 -r testing_samples/rural4/rural_4_report.tsv -k testing_samples/rural4/rural_4_out.tsv -1 testing_samples/rural4/rural_4_readsubset.fastq -o ./readsubsets/taxid/R1_5671.fq\n",
      "PROGRAM START TIME: 04-17-2024 18:20:48\n",
      ">> STEP 0: PARSING REPORT FILE testing_samples/rural4/rural_4_report.tsv\n",
      "\t2 taxonomy IDs to parse\n",
      ">> STEP 1: PARSING KRAKEN FILE FOR READIDS testing_samples/rural4/rural_4_out.tsv\n",
      "\t0.02 million reads processed\n",
      "\t1 read IDs saved\n",
      ">> STEP 2: READING SEQUENCE FILES AND WRITING READS\n",
      "\t1 read IDs found (0.02 mill reads processed)\n",
      "\t1 reads printed to file\n",
      "\tGenerated file: ./readsubsets/taxid/R1_5671.fq\n",
      "PROGRAM END TIME: 04-17-2024 18:20:48\n",
      "gunzip ./genbank/protozoa/GCA_003020905.1/GCA_003020905.1_ASM302090v1_genomic.fna.gz\n"
     ]
    },
    {
     "name": "stderr",
     "output_type": "stream",
     "text": [
      "gzip: ./genbank/protozoa/GCA_003020905.1/GCA_003020905.1_ASM302090v1_genomic.fna.gz: No such file or directory\n",
      "[M::mm_idx_gen::0.358*0.97] collected minimizers\n",
      "[M::mm_idx_gen::0.415*1.23] sorted minimizers\n",
      "[M::main::0.415*1.23] loaded/built the index for 36 target sequence(s)\n",
      "[M::mm_mapopt_update::0.438*1.22] mid_occ = 50\n",
      "[M::mm_idx_stat] kmer size: 19; skip: 19; is_hpc: 0; #seq: 36\n",
      "[M::mm_idx_stat::0.456*1.21] distinct minimizers: 3020885 (97.22% are singletons); average occurrences: 1.062; average spacing: 9.980; total length: 32009138\n",
      "[M::worker_pipeline::0.464*1.20] mapped 1 sequences\n",
      "[M::main] Version: 2.27-r1193\n",
      "[M::main] CMD: minimap2 -ax lr:hq ./genbank/protozoa/GCA_003020905.1/GCA_003020905.1_ASM302090v1_genomic.fna ./readsubsets/taxid/R1_5671.fq\n",
      "[M::main] Real time: 0.470 sec; CPU: 0.561 sec; Peak RSS: 0.154 GB\n"
     ]
    },
    {
     "name": "stdout",
     "output_type": "stream",
     "text": [
      "samtools view -c -F 260 ./tmp_files/sam_Leishmania_infantum.sam\n",
      "1\n",
      "samtools view -S -b ./tmp_files/sam_Leishmania_infantum.sam -o ./tmp_files/bam_Leishmania_infantum.bam\n",
      "samtools sort ./tmp_files/bam_Leishmania_infantum.bam -o ./alignments/Leishmania_infantum/sorted_bam_Leishmania_infantum.bam\n",
      "samtools index ./alignments/Leishmania_infantum/sorted_bam_Leishmania_infantum.bam\n",
      "extract_kraken_reads.py --include-children --fastq-output -t 296 -r testing_samples/rural4/rural_4_report.tsv -k testing_samples/rural4/rural_4_out.tsv -1 testing_samples/rural4/rural_4_readsubset.fastq -o ./readsubsets/taxid/R1_296.fq\n",
      "PROGRAM START TIME: 04-17-2024 18:20:49\n",
      ">> STEP 0: PARSING REPORT FILE testing_samples/rural4/rural_4_report.tsv\n",
      "\t1 taxonomy IDs to parse\n",
      ">> STEP 1: PARSING KRAKEN FILE FOR READIDS testing_samples/rural4/rural_4_out.tsv\n",
      "\t0.02 million reads processed\n",
      "\t0 read IDs saved\n",
      ">> STEP 2: READING SEQUENCE FILES AND WRITING READS\n",
      "\t0 read IDs found (0.00 mill reads processed)\n",
      "\t0 reads printed to file\n",
      "\tGenerated file: ./readsubsets/taxid/R1_296.fq\n",
      "PROGRAM END TIME: 04-17-2024 18:20:49\n",
      "gunzip ./refseq/bacteria/GCF_015476275.1/GCF_015476275.1_ASM1547627v1_genomic.fna.gz\n",
      "samtools view -c -F 260 ./tmp_files/sam_Pseudomonas_fragi.sam\n",
      "0\n",
      "samtools view -S -b ./tmp_files/sam_Pseudomonas_fragi.sam -o ./tmp_files/bam_Pseudomonas_fragi.bam\n",
      "samtools sort ./tmp_files/bam_Pseudomonas_fragi.bam -o ./alignments/Pseudomonas_fragi/sorted_bam_Pseudomonas_fragi.bam\n",
      "samtools index ./alignments/Pseudomonas_fragi/sorted_bam_Pseudomonas_fragi.bam\n",
      "extract_kraken_reads.py --include-children --fastq-output -t 470 -r testing_samples/rural4/rural_4_report.tsv -k testing_samples/rural4/rural_4_out.tsv -1 testing_samples/rural4/rural_4_readsubset.fastq -o ./readsubsets/taxid/R1_470.fq\n"
     ]
    },
    {
     "name": "stderr",
     "output_type": "stream",
     "text": [
      "gzip: ./refseq/bacteria/GCF_015476275.1/GCF_015476275.1_ASM1547627v1_genomic.fna.gz: No such file or directory\n",
      "[M::mm_idx_gen::0.061*1.00] collected minimizers\n",
      "[M::mm_idx_gen::0.072*1.25] sorted minimizers\n",
      "[M::main::0.072*1.25] loaded/built the index for 2 target sequence(s)\n",
      "[M::mm_mapopt_update::0.077*1.23] mid_occ = 50\n",
      "[M::mm_idx_stat] kmer size: 19; skip: 19; is_hpc: 0; #seq: 2\n",
      "[M::mm_idx_stat::0.080*1.22] distinct minimizers: 499190 (99.47% are singletons); average occurrences: 1.018; average spacing: 9.990; total length: 5077209\n",
      "[M::main] Version: 2.27-r1193\n",
      "[M::main] CMD: minimap2 -ax lr:hq ./refseq/bacteria/GCF_015476275.1/GCF_015476275.1_ASM1547627v1_genomic.fna ./readsubsets/taxid/R1_296.fq\n",
      "[M::main] Real time: 0.084 sec; CPU: 0.102 sec; Peak RSS: 0.036 GB\n"
     ]
    },
    {
     "name": "stdout",
     "output_type": "stream",
     "text": [
      "PROGRAM START TIME: 04-17-2024 18:20:49\n",
      ">> STEP 0: PARSING REPORT FILE testing_samples/rural4/rural_4_report.tsv\n",
      "\t1 taxonomy IDs to parse\n",
      ">> STEP 1: PARSING KRAKEN FILE FOR READIDS testing_samples/rural4/rural_4_out.tsv\n",
      "\t0.02 million reads processed\n",
      "\t10 read IDs saved\n",
      ">> STEP 2: READING SEQUENCE FILES AND WRITING READS\n",
      "\t10 read IDs found (0.02 mill reads processed)\n",
      "\t10 reads printed to file\n",
      "\tGenerated file: ./readsubsets/taxid/R1_470.fq\n",
      "PROGRAM END TIME: 04-17-2024 18:20:50\n",
      "gunzip ./refseq/bacteria/GCF_008632635.1/GCF_008632635.1_ASM863263v1_genomic.fna.gz\n"
     ]
    },
    {
     "name": "stderr",
     "output_type": "stream",
     "text": [
      "gzip: ./refseq/bacteria/GCF_008632635.1/GCF_008632635.1_ASM863263v1_genomic.fna.gz: No such file or directory\n",
      "[M::mm_idx_gen::0.049*0.90] collected minimizers\n",
      "[M::mm_idx_gen::0.062*1.18] sorted minimizers\n",
      "[M::main::0.062*1.18] loaded/built the index for 2 target sequence(s)\n",
      "[M::mm_mapopt_update::0.066*1.17] mid_occ = 50\n",
      "[M::mm_idx_stat] kmer size: 19; skip: 19; is_hpc: 0; #seq: 2\n",
      "[M::mm_idx_stat::0.070*1.16] distinct minimizers: 391837 (99.43% are singletons); average occurrences: 1.017; average spacing: 9.991; total length: 3980230\n",
      "[M::worker_pipeline::0.074*1.23] mapped 10 sequences\n",
      "[M::main] Version: 2.27-r1193\n",
      "[M::main] CMD: minimap2 -ax lr:hq ./refseq/bacteria/GCF_008632635.1/GCF_008632635.1_ASM863263v1_genomic.fna ./readsubsets/taxid/R1_470.fq\n",
      "[M::main] Real time: 0.077 sec; CPU: 0.094 sec; Peak RSS: 0.043 GB\n"
     ]
    },
    {
     "name": "stdout",
     "output_type": "stream",
     "text": [
      "samtools view -c -F 260 ./tmp_files/sam_Acinetobacter_baumannii.sam\n",
      "9\n",
      "samtools view -S -b ./tmp_files/sam_Acinetobacter_baumannii.sam -o ./tmp_files/bam_Acinetobacter_baumannii.bam\n",
      "samtools sort ./tmp_files/bam_Acinetobacter_baumannii.bam -o ./alignments/Acinetobacter_baumannii/sorted_bam_Acinetobacter_baumannii.bam\n",
      "samtools index ./alignments/Acinetobacter_baumannii/sorted_bam_Acinetobacter_baumannii.bam\n",
      "extract_kraken_reads.py --include-children --fastq-output -t 546 -r testing_samples/rural4/rural_4_report.tsv -k testing_samples/rural4/rural_4_out.tsv -1 testing_samples/rural4/rural_4_readsubset.fastq -o ./readsubsets/taxid/R1_546.fq\n",
      "PROGRAM START TIME: 04-17-2024 18:20:50\n",
      ">> STEP 0: PARSING REPORT FILE testing_samples/rural4/rural_4_report.tsv\n",
      "\t1 taxonomy IDs to parse\n",
      ">> STEP 1: PARSING KRAKEN FILE FOR READIDS testing_samples/rural4/rural_4_out.tsv\n",
      "\t0.02 million reads processed\n",
      "\t0 read IDs saved\n",
      ">> STEP 2: READING SEQUENCE FILES AND WRITING READS\n",
      "\t0 read IDs found (0.00 mill reads processed)\n",
      "\t0 reads printed to file\n",
      "\tGenerated file: ./readsubsets/taxid/R1_546.fq\n",
      "PROGRAM END TIME: 04-17-2024 18:20:50\n",
      "gunzip ./refseq/bacteria/GCF_904859905.1/GCF_904859905.1_MSB1_1H_genomic.fna.gz\n",
      "samtools view -c -F 260 ./tmp_files/sam_Citrobacter_freundii.sam\n",
      "0\n",
      "samtools view -S -b ./tmp_files/sam_Citrobacter_freundii.sam -o ./tmp_files/bam_Citrobacter_freundii.bam\n",
      "samtools sort ./tmp_files/bam_Citrobacter_freundii.bam -o ./alignments/Citrobacter_freundii/sorted_bam_Citrobacter_freundii.bam\n",
      "samtools index ./alignments/Citrobacter_freundii/sorted_bam_Citrobacter_freundii.bam\n",
      "extract_kraken_reads.py --include-children --fastq-output -t 548 -r testing_samples/rural4/rural_4_report.tsv -k testing_samples/rural4/rural_4_out.tsv -1 testing_samples/rural4/rural_4_readsubset.fastq -o ./readsubsets/taxid/R1_548.fq\n"
     ]
    },
    {
     "name": "stderr",
     "output_type": "stream",
     "text": [
      "gzip: ./refseq/bacteria/GCF_904859905.1/GCF_904859905.1_MSB1_1H_genomic.fna.gz: No such file or directory\n",
      "[M::mm_idx_gen::0.061*0.96] collected minimizers\n",
      "[M::mm_idx_gen::0.070*1.21] sorted minimizers\n",
      "[M::main::0.071*1.21] loaded/built the index for 3 target sequence(s)\n",
      "[M::mm_mapopt_update::0.075*1.19] mid_occ = 50\n",
      "[M::mm_idx_stat] kmer size: 19; skip: 19; is_hpc: 0; #seq: 3\n",
      "[M::mm_idx_stat::0.079*1.18] distinct minimizers: 511422 (99.66% are singletons); average occurrences: 1.011; average spacing: 10.004; total length: 5171093\n",
      "[M::main] Version: 2.27-r1193\n",
      "[M::main] CMD: minimap2 -ax lr:hq ./refseq/bacteria/GCF_904859905.1/GCF_904859905.1_MSB1_1H_genomic.fna ./readsubsets/taxid/R1_546.fq\n",
      "[M::main] Real time: 0.083 sec; CPU: 0.097 sec; Peak RSS: 0.037 GB\n"
     ]
    },
    {
     "name": "stdout",
     "output_type": "stream",
     "text": [
      "PROGRAM START TIME: 04-17-2024 18:20:50\n",
      ">> STEP 0: PARSING REPORT FILE testing_samples/rural4/rural_4_report.tsv\n",
      "\t1 taxonomy IDs to parse\n",
      ">> STEP 1: PARSING KRAKEN FILE FOR READIDS testing_samples/rural4/rural_4_out.tsv\n",
      "\t0.02 million reads processed\n",
      "\t15 read IDs saved\n",
      ">> STEP 2: READING SEQUENCE FILES AND WRITING READS\n",
      "\t15 read IDs found (0.02 mill reads processed)\n",
      "\t15 reads printed to file\n",
      "\tGenerated file: ./readsubsets/taxid/R1_548.fq\n",
      "PROGRAM END TIME: 04-17-2024 18:20:51\n",
      "gunzip ./refseq/bacteria/GCF_007632255.1/GCF_007632255.1_ASM763225v1_genomic.fna.gz\n",
      "samtools view -c -F 260 ./tmp_files/sam_Klebsiella_aerogenes.sam\n",
      "13\n",
      "samtools view -S -b ./tmp_files/sam_Klebsiella_aerogenes.sam -o ./tmp_files/bam_Klebsiella_aerogenes.bam\n",
      "samtools sort ./tmp_files/bam_Klebsiella_aerogenes.bam -o ./alignments/Klebsiella_aerogenes/sorted_bam_Klebsiella_aerogenes.bam\n",
      "samtools index ./alignments/Klebsiella_aerogenes/sorted_bam_Klebsiella_aerogenes.bam\n",
      "extract_kraken_reads.py --include-children --fastq-output -t 549 -r testing_samples/rural4/rural_4_report.tsv -k testing_samples/rural4/rural_4_out.tsv -1 testing_samples/rural4/rural_4_readsubset.fastq -o ./readsubsets/taxid/R1_549.fq\n"
     ]
    },
    {
     "name": "stderr",
     "output_type": "stream",
     "text": [
      "gzip: ./refseq/bacteria/GCF_007632255.1/GCF_007632255.1_ASM763225v1_genomic.fna.gz: No such file or directory\n",
      "[M::mm_idx_gen::0.062*0.94] collected minimizers\n",
      "[M::mm_idx_gen::0.072*1.20] sorted minimizers\n",
      "[M::main::0.072*1.20] loaded/built the index for 2 target sequence(s)\n",
      "[M::mm_mapopt_update::0.077*1.18] mid_occ = 50\n",
      "[M::mm_idx_stat] kmer size: 19; skip: 19; is_hpc: 0; #seq: 2\n",
      "[M::mm_idx_stat::0.082*1.17] distinct minimizers: 518049 (99.45% are singletons); average occurrences: 1.013; average spacing: 10.004; total length: 5249267\n",
      "[M::worker_pipeline::0.087*1.11] mapped 15 sequences\n",
      "[M::main] Version: 2.27-r1193\n",
      "[M::main] CMD: minimap2 -ax lr:hq ./refseq/bacteria/GCF_007632255.1/GCF_007632255.1_ASM763225v1_genomic.fna ./readsubsets/taxid/R1_548.fq\n",
      "[M::main] Real time: 0.091 sec; CPU: 0.100 sec; Peak RSS: 0.048 GB\n"
     ]
    },
    {
     "name": "stdout",
     "output_type": "stream",
     "text": [
      "PROGRAM START TIME: 04-17-2024 18:20:51\n",
      ">> STEP 0: PARSING REPORT FILE testing_samples/rural4/rural_4_report.tsv\n",
      "\t3 taxonomy IDs to parse\n",
      ">> STEP 1: PARSING KRAKEN FILE FOR READIDS testing_samples/rural4/rural_4_out.tsv\n",
      "\t0.02 million reads processed\n",
      "\t29 read IDs saved\n",
      ">> STEP 2: READING SEQUENCE FILES AND WRITING READS\n",
      "\t29 read IDs found (0.02 mill reads processed)\n",
      "\t29 reads printed to file\n",
      "\tGenerated file: ./readsubsets/taxid/R1_549.fq\n",
      "PROGRAM END TIME: 04-17-2024 18:20:52\n",
      "gunzip ./refseq/bacteria/GCF_019048385.1/GCF_019048385.1_ASM1904838v1_genomic.fna.gz\n",
      "samtools view -c -F 260 ./tmp_files/sam_Pantoea_agglomerans.sam\n",
      "19\n",
      "samtools view -S -b ./tmp_files/sam_Pantoea_agglomerans.sam -o ./tmp_files/bam_Pantoea_agglomerans.bam\n",
      "samtools sort ./tmp_files/bam_Pantoea_agglomerans.bam -o ./alignments/Pantoea_agglomerans/sorted_bam_Pantoea_agglomerans.bam\n",
      "samtools index ./alignments/Pantoea_agglomerans/sorted_bam_Pantoea_agglomerans.bam\n",
      "extract_kraken_reads.py --include-children --fastq-output -t 562 -r testing_samples/rural4/rural_4_report.tsv -k testing_samples/rural4/rural_4_out.tsv -1 testing_samples/rural4/rural_4_readsubset.fastq -o ./readsubsets/taxid/R1_562.fq\n"
     ]
    },
    {
     "name": "stderr",
     "output_type": "stream",
     "text": [
      "gzip: ./refseq/bacteria/GCF_019048385.1/GCF_019048385.1_ASM1904838v1_genomic.fna.gz: No such file or directory\n",
      "[M::mm_idx_gen::0.055*0.90] collected minimizers\n",
      "[M::mm_idx_gen::0.065*1.16] sorted minimizers\n",
      "[M::main::0.065*1.16] loaded/built the index for 3 target sequence(s)\n",
      "[M::mm_mapopt_update::0.070*1.15] mid_occ = 50\n",
      "[M::mm_idx_stat] kmer size: 19; skip: 19; is_hpc: 0; #seq: 3\n",
      "[M::mm_idx_stat::0.073*1.14] distinct minimizers: 463303 (99.55% are singletons); average occurrences: 1.013; average spacing: 10.002; total length: 4692018\n",
      "[M::worker_pipeline::0.091*1.31] mapped 29 sequences\n",
      "[M::main] Version: 2.27-r1193\n",
      "[M::main] CMD: minimap2 -ax lr:hq ./refseq/bacteria/GCF_019048385.1/GCF_019048385.1_ASM1904838v1_genomic.fna ./readsubsets/taxid/R1_549.fq\n",
      "[M::main] Real time: 0.096 sec; CPU: 0.124 sec; Peak RSS: 0.066 GB\n"
     ]
    },
    {
     "name": "stdout",
     "output_type": "stream",
     "text": [
      "PROGRAM START TIME: 04-17-2024 18:20:52\n",
      ">> STEP 0: PARSING REPORT FILE testing_samples/rural4/rural_4_report.tsv\n",
      "\t6 taxonomy IDs to parse\n",
      ">> STEP 1: PARSING KRAKEN FILE FOR READIDS testing_samples/rural4/rural_4_out.tsv\n",
      "\t0.02 million reads processed\n",
      "\t31 read IDs saved\n",
      ">> STEP 2: READING SEQUENCE FILES AND WRITING READS\n",
      "\t31 read IDs found (0.02 mill reads processed)\n",
      "\t31 reads printed to file\n",
      "\tGenerated file: ./readsubsets/taxid/R1_562.fq\n",
      "PROGRAM END TIME: 04-17-2024 18:20:53\n",
      "gunzip ./refseq/bacteria/GCF_000308975.1/GCF_000308975.1_ASM30897v2_genomic.fna.gz\n",
      "samtools view -c -F 260 ./tmp_files/sam_Escherichia_coli.sam\n",
      "27\n",
      "samtools view -S -b ./tmp_files/sam_Escherichia_coli.sam -o ./tmp_files/bam_Escherichia_coli.bam\n",
      "samtools sort ./tmp_files/bam_Escherichia_coli.bam -o ./alignments/Escherichia_coli/sorted_bam_Escherichia_coli.bam\n",
      "samtools index ./alignments/Escherichia_coli/sorted_bam_Escherichia_coli.bam\n",
      "extract_kraken_reads.py --include-children --fastq-output -t 573 -r testing_samples/rural4/rural_4_report.tsv -k testing_samples/rural4/rural_4_out.tsv -1 testing_samples/rural4/rural_4_readsubset.fastq -o ./readsubsets/taxid/R1_573.fq\n"
     ]
    },
    {
     "name": "stderr",
     "output_type": "stream",
     "text": [
      "gzip: ./refseq/bacteria/GCF_000308975.1/GCF_000308975.1_ASM30897v2_genomic.fna.gz: No such file or directory\n",
      "[M::mm_idx_gen::0.058*0.93] collected minimizers\n",
      "[M::mm_idx_gen::0.069*1.21] sorted minimizers\n",
      "[M::main::0.069*1.21] loaded/built the index for 1 target sequence(s)\n",
      "[M::mm_mapopt_update::0.075*1.19] mid_occ = 50\n",
      "[M::mm_idx_stat] kmer size: 19; skip: 19; is_hpc: 0; #seq: 1\n",
      "[M::mm_idx_stat::0.079*1.18] distinct minimizers: 469884 (99.51% are singletons); average occurrences: 1.010; average spacing: 10.017; total length: 4754148\n",
      "[M::worker_pipeline::0.087*1.22] mapped 31 sequences\n",
      "[M::main] Version: 2.27-r1193\n",
      "[M::main] CMD: minimap2 -ax lr:hq ./refseq/bacteria/GCF_000308975.1/GCF_000308975.1_ASM30897v2_genomic.fna ./readsubsets/taxid/R1_562.fq\n",
      "[M::main] Real time: 0.092 sec; CPU: 0.111 sec; Peak RSS: 0.049 GB\n"
     ]
    },
    {
     "name": "stdout",
     "output_type": "stream",
     "text": [
      "PROGRAM START TIME: 04-17-2024 18:20:53\n",
      ">> STEP 0: PARSING REPORT FILE testing_samples/rural4/rural_4_report.tsv\n",
      "\t7 taxonomy IDs to parse\n",
      ">> STEP 1: PARSING KRAKEN FILE FOR READIDS testing_samples/rural4/rural_4_out.tsv\n",
      "\t0.02 million reads processed\n",
      "\t153 read IDs saved\n",
      ">> STEP 2: READING SEQUENCE FILES AND WRITING READS\n",
      "\t153 read IDs found (0.02 mill reads processed)\n",
      "\t153 reads printed to file\n",
      "\tGenerated file: ./readsubsets/taxid/R1_573.fq\n",
      "PROGRAM END TIME: 04-17-2024 18:20:54\n",
      "gunzip ./refseq/bacteria/GCF_000710075.1/GCF_000710075.1_KlePne1.0_genomic.fna.gz\n"
     ]
    },
    {
     "name": "stderr",
     "output_type": "stream",
     "text": [
      "gzip: ./refseq/bacteria/GCF_000710075.1/GCF_000710075.1_KlePne1.0_genomic.fna.gz: No such file or directory\n",
      "[M::mm_idx_gen::0.063*0.89] collected minimizers\n",
      "[M::mm_idx_gen::0.078*1.17] sorted minimizers\n",
      "[M::main::0.078*1.17] loaded/built the index for 133 target sequence(s)\n",
      "[M::mm_mapopt_update::0.086*1.15] mid_occ = 50\n",
      "[M::mm_idx_stat] kmer size: 19; skip: 19; is_hpc: 0; #seq: 133\n",
      "[M::mm_idx_stat::0.091*1.14] distinct minimizers: 540371 (99.68% are singletons); average occurrences: 1.004; average spacing: 10.010; total length: 5432440\n",
      "[M::worker_pipeline::0.141*1.65] mapped 153 sequences\n",
      "[M::main] Version: 2.27-r1193\n",
      "[M::main] CMD: minimap2 -ax lr:hq ./refseq/bacteria/GCF_000710075.1/GCF_000710075.1_KlePne1.0_genomic.fna ./readsubsets/taxid/R1_573.fq\n",
      "[M::main] Real time: 0.145 sec; CPU: 0.236 sec; Peak RSS: 0.081 GB\n"
     ]
    },
    {
     "name": "stdout",
     "output_type": "stream",
     "text": [
      "samtools view -c -F 260 ./tmp_files/sam_Klebsiella_pneumoniae.sam\n",
      "163\n",
      "samtools view -S -b ./tmp_files/sam_Klebsiella_pneumoniae.sam -o ./tmp_files/bam_Klebsiella_pneumoniae.bam\n",
      "samtools sort ./tmp_files/bam_Klebsiella_pneumoniae.bam -o ./alignments/Klebsiella_pneumoniae/sorted_bam_Klebsiella_pneumoniae.bam\n",
      "samtools index ./alignments/Klebsiella_pneumoniae/sorted_bam_Klebsiella_pneumoniae.bam\n",
      "extract_kraken_reads.py --include-children --fastq-output -t 584 -r testing_samples/rural4/rural_4_report.tsv -k testing_samples/rural4/rural_4_out.tsv -1 testing_samples/rural4/rural_4_readsubset.fastq -o ./readsubsets/taxid/R1_584.fq\n",
      "PROGRAM START TIME: 04-17-2024 18:20:55\n",
      ">> STEP 0: PARSING REPORT FILE testing_samples/rural4/rural_4_report.tsv\n",
      "\t1 taxonomy IDs to parse\n",
      ">> STEP 1: PARSING KRAKEN FILE FOR READIDS testing_samples/rural4/rural_4_out.tsv\n",
      "\t0.02 million reads processed\n",
      "\t4 read IDs saved\n",
      ">> STEP 2: READING SEQUENCE FILES AND WRITING READS\n",
      "\t4 read IDs found (0.02 mill reads processed)\n",
      "\t4 reads printed to file\n",
      "\tGenerated file: ./readsubsets/taxid/R1_584.fq\n",
      "PROGRAM END TIME: 04-17-2024 18:20:55\n",
      "gunzip ./refseq/bacteria/GCF_000770765.1/GCF_000770765.1_ASM77076v1_genomic.fna.gz\n"
     ]
    },
    {
     "name": "stderr",
     "output_type": "stream",
     "text": [
      "gzip: ./refseq/bacteria/GCF_000770765.1/GCF_000770765.1_ASM77076v1_genomic.fna.gz: No such file or directory\n",
      "[M::mm_idx_gen::0.049*0.91] collected minimizers\n",
      "[M::mm_idx_gen::0.061*1.20] sorted minimizers\n",
      "[M::main::0.061*1.20] loaded/built the index for 91 target sequence(s)\n",
      "[M::mm_mapopt_update::0.065*1.19] mid_occ = 50\n",
      "[M::mm_idx_stat] kmer size: 19; skip: 19; is_hpc: 0; #seq: 91\n",
      "[M::mm_idx_stat::0.068*1.18] distinct minimizers: 409634 (99.28% are singletons); average occurrences: 1.010; average spacing: 9.996; total length: 4137208\n",
      "[M::worker_pipeline::0.086*1.13] mapped 4 sequences\n",
      "[M::main] Version: 2.27-r1193\n",
      "[M::main] CMD: minimap2 -ax lr:hq ./refseq/bacteria/GCF_000770765.1/GCF_000770765.1_ASM77076v1_genomic.fna ./readsubsets/taxid/R1_584.fq\n",
      "[M::main] Real time: 0.090 sec; CPU: 0.102 sec; Peak RSS: 0.076 GB\n"
     ]
    },
    {
     "name": "stdout",
     "output_type": "stream",
     "text": [
      "samtools view -c -F 260 ./tmp_files/sam_Proteus_mirabilis.sam\n",
      "3\n",
      "samtools view -S -b ./tmp_files/sam_Proteus_mirabilis.sam -o ./tmp_files/bam_Proteus_mirabilis.bam\n",
      "samtools sort ./tmp_files/bam_Proteus_mirabilis.bam -o ./alignments/Proteus_mirabilis/sorted_bam_Proteus_mirabilis.bam\n",
      "samtools index ./alignments/Proteus_mirabilis/sorted_bam_Proteus_mirabilis.bam\n",
      "extract_kraken_reads.py --include-children --fastq-output -t 28197 -r testing_samples/rural4/rural_4_report.tsv -k testing_samples/rural4/rural_4_out.tsv -1 testing_samples/rural4/rural_4_readsubset.fastq -o ./readsubsets/taxid/R1_28197.fq\n",
      "PROGRAM START TIME: 04-17-2024 18:20:55\n",
      ">> STEP 0: PARSING REPORT FILE testing_samples/rural4/rural_4_report.tsv\n",
      "\t1 taxonomy IDs to parse\n",
      ">> STEP 1: PARSING KRAKEN FILE FOR READIDS testing_samples/rural4/rural_4_out.tsv\n",
      "\t0.02 million reads processed\n",
      "\t0 read IDs saved\n",
      ">> STEP 2: READING SEQUENCE FILES AND WRITING READS\n",
      "\t0 read IDs found (0.00 mill reads processed)\n",
      "\t0 reads printed to file\n",
      "\tGenerated file: ./readsubsets/taxid/R1_28197.fq\n",
      "PROGRAM END TIME: 04-17-2024 18:20:55\n",
      "gunzip ./refseq/bacteria/GCF_900187115.1/GCF_900187115.1_51699_F01_genomic.fna.gz\n",
      "samtools view -c -F 260 ./tmp_files/sam_Aliarcobacter_butzleri.sam\n",
      "0\n",
      "samtools view -S -b ./tmp_files/sam_Aliarcobacter_butzleri.sam -o ./tmp_files/bam_Aliarcobacter_butzleri.bam\n",
      "samtools sort ./tmp_files/bam_Aliarcobacter_butzleri.bam -o ./alignments/Aliarcobacter_butzleri/sorted_bam_Aliarcobacter_butzleri.bam\n",
      "samtools index ./alignments/Aliarcobacter_butzleri/sorted_bam_Aliarcobacter_butzleri.bam\n",
      "extract_kraken_reads.py --include-children --fastq-output -t 28901 -r testing_samples/rural4/rural_4_report.tsv -k testing_samples/rural4/rural_4_out.tsv -1 testing_samples/rural4/rural_4_readsubset.fastq -o ./readsubsets/taxid/R1_28901.fq\n"
     ]
    },
    {
     "name": "stderr",
     "output_type": "stream",
     "text": [
      "gzip: ./refseq/bacteria/GCF_900187115.1/GCF_900187115.1_51699_F01_genomic.fna.gz: No such file or directory\n",
      "[M::mm_idx_gen::0.031*0.91] collected minimizers\n",
      "[M::mm_idx_gen::0.040*1.20] sorted minimizers\n",
      "[M::main::0.040*1.20] loaded/built the index for 1 target sequence(s)\n",
      "[M::mm_mapopt_update::0.043*1.19] mid_occ = 50\n",
      "[M::mm_idx_stat] kmer size: 19; skip: 19; is_hpc: 0; #seq: 1\n",
      "[M::mm_idx_stat::0.045*1.18] distinct minimizers: 230019 (99.01% are singletons); average occurrences: 1.022; average spacing: 9.987; total length: 2347607\n",
      "[M::main] Version: 2.27-r1193\n",
      "[M::main] CMD: minimap2 -ax lr:hq ./refseq/bacteria/GCF_900187115.1/GCF_900187115.1_51699_F01_genomic.fna ./readsubsets/taxid/R1_28197.fq\n",
      "[M::main] Real time: 0.047 sec; CPU: 0.055 sec; Peak RSS: 0.018 GB\n"
     ]
    },
    {
     "name": "stdout",
     "output_type": "stream",
     "text": [
      "PROGRAM START TIME: 04-17-2024 18:20:56\n",
      ">> STEP 0: PARSING REPORT FILE testing_samples/rural4/rural_4_report.tsv\n",
      "\t5 taxonomy IDs to parse\n",
      ">> STEP 1: PARSING KRAKEN FILE FOR READIDS testing_samples/rural4/rural_4_out.tsv\n",
      "\t0.02 million reads processed\n",
      "\t3 read IDs saved\n",
      ">> STEP 2: READING SEQUENCE FILES AND WRITING READS\n",
      "\t3 read IDs found (0.02 mill reads processed)\n",
      "\t3 reads printed to file\n",
      "\tGenerated file: ./readsubsets/taxid/R1_28901.fq\n",
      "PROGRAM END TIME: 04-17-2024 18:20:56\n",
      "gunzip ./refseq/bacteria/GCF_001078155.1/GCF_001078155.1_ASM107815v1_genomic.fna.gz\n",
      "samtools view -c -F 260 ./tmp_files/sam_Salmonella_enterica.sam\n",
      "3\n",
      "samtools view -S -b ./tmp_files/sam_Salmonella_enterica.sam -o ./tmp_files/bam_Salmonella_enterica.bam\n",
      "samtools sort ./tmp_files/bam_Salmonella_enterica.bam -o ./alignments/Salmonella_enterica/sorted_bam_Salmonella_enterica.bam\n",
      "samtools index ./alignments/Salmonella_enterica/sorted_bam_Salmonella_enterica.bam\n",
      "extract_kraken_reads.py --include-children --fastq-output -t 83771 -r testing_samples/rural4/rural_4_report.tsv -k testing_samples/rural4/rural_4_out.tsv -1 testing_samples/rural4/rural_4_readsubset.fastq -o ./readsubsets/taxid/R1_83771.fq\n"
     ]
    },
    {
     "name": "stderr",
     "output_type": "stream",
     "text": [
      "gzip: ./refseq/bacteria/GCF_001078155.1/GCF_001078155.1_ASM107815v1_genomic.fna.gz: No such file or directory\n",
      "[M::mm_idx_gen::0.063*0.89] collected minimizers\n",
      "[M::mm_idx_gen::0.073*1.13] sorted minimizers\n",
      "[M::main::0.073*1.13] loaded/built the index for 193 target sequence(s)\n",
      "[M::mm_mapopt_update::0.078*1.12] mid_occ = 50\n",
      "[M::mm_idx_stat] kmer size: 19; skip: 19; is_hpc: 0; #seq: 193\n",
      "[M::mm_idx_stat::0.082*1.11] distinct minimizers: 508668 (99.50% are singletons); average occurrences: 1.008; average spacing: 10.013; total length: 5131602\n",
      "[M::worker_pipeline::0.084*1.10] mapped 3 sequences\n",
      "[M::main] Version: 2.27-r1193\n",
      "[M::main] CMD: minimap2 -ax lr:hq ./refseq/bacteria/GCF_001078155.1/GCF_001078155.1_ASM107815v1_genomic.fna ./readsubsets/taxid/R1_28901.fq\n",
      "[M::main] Real time: 0.087 sec; CPU: 0.095 sec; Peak RSS: 0.033 GB\n"
     ]
    },
    {
     "name": "stdout",
     "output_type": "stream",
     "text": [
      "PROGRAM START TIME: 04-17-2024 18:20:56\n",
      ">> STEP 0: PARSING REPORT FILE testing_samples/rural4/rural_4_report.tsv\n",
      "\t1 taxonomy IDs to parse\n",
      ">> STEP 1: PARSING KRAKEN FILE FOR READIDS testing_samples/rural4/rural_4_out.tsv\n",
      "\t0.02 million reads processed\n",
      "\t1 read IDs saved\n",
      ">> STEP 2: READING SEQUENCE FILES AND WRITING READS\n",
      "\t1 read IDs found (0.00 mill reads processed)\n",
      "\t1 reads printed to file\n",
      "\tGenerated file: ./readsubsets/taxid/R1_83771.fq\n",
      "PROGRAM END TIME: 04-17-2024 18:20:56\n",
      "gunzip ./refseq/bacteria/GCF_016747875.1/GCF_016747875.1_ASM1674787v1_genomic.fna.gz\n",
      "samtools view -c -F 260 ./tmp_files/sam_Succinivibrio_dextrinosolvens.sam\n",
      "0\n",
      "samtools view -S -b ./tmp_files/sam_Succinivibrio_dextrinosolvens.sam -o ./tmp_files/bam_Succinivibrio_dextrinosolvens.bam\n",
      "samtools sort ./tmp_files/bam_Succinivibrio_dextrinosolvens.bam -o ./alignments/Succinivibrio_dextrinosolvens/sorted_bam_Succinivibrio_dextrinosolvens.bam\n",
      "samtools index ./alignments/Succinivibrio_dextrinosolvens/sorted_bam_Succinivibrio_dextrinosolvens.bam\n",
      "extract_kraken_reads.py --include-children --fastq-output -t 158836 -r testing_samples/rural4/rural_4_report.tsv -k testing_samples/rural4/rural_4_out.tsv -1 testing_samples/rural4/rural_4_readsubset.fastq -o ./readsubsets/taxid/R1_158836.fq\n"
     ]
    },
    {
     "name": "stderr",
     "output_type": "stream",
     "text": [
      "gzip: ./refseq/bacteria/GCF_016747875.1/GCF_016747875.1_ASM1674787v1_genomic.fna.gz: No such file or directory\n",
      "[M::mm_idx_gen::0.036*0.87] collected minimizers\n",
      "[M::mm_idx_gen::0.045*1.17] sorted minimizers\n",
      "[M::main::0.045*1.17] loaded/built the index for 2 target sequence(s)\n",
      "[M::mm_mapopt_update::0.048*1.16] mid_occ = 50\n",
      "[M::mm_idx_stat] kmer size: 19; skip: 19; is_hpc: 0; #seq: 2\n",
      "[M::mm_idx_stat::0.050*1.16] distinct minimizers: 277556 (98.77% are singletons); average occurrences: 1.027; average spacing: 10.002; total length: 2849946\n",
      "[M::worker_pipeline::0.051*1.15] mapped 1 sequences\n",
      "[M::main] Version: 2.27-r1193\n",
      "[M::main] CMD: minimap2 -ax lr:hq ./refseq/bacteria/GCF_016747875.1/GCF_016747875.1_ASM1674787v1_genomic.fna ./readsubsets/taxid/R1_83771.fq\n",
      "[M::main] Real time: 0.053 sec; CPU: 0.061 sec; Peak RSS: 0.022 GB\n"
     ]
    },
    {
     "name": "stdout",
     "output_type": "stream",
     "text": [
      "PROGRAM START TIME: 04-17-2024 18:20:57\n",
      ">> STEP 0: PARSING REPORT FILE testing_samples/rural4/rural_4_report.tsv\n",
      "\t4 taxonomy IDs to parse\n",
      ">> STEP 1: PARSING KRAKEN FILE FOR READIDS testing_samples/rural4/rural_4_out.tsv\n",
      "\t0.02 million reads processed\n",
      "\t44 read IDs saved\n",
      ">> STEP 2: READING SEQUENCE FILES AND WRITING READS\n",
      "\t44 read IDs found (0.02 mill reads processed)\n",
      "\t44 reads printed to file\n",
      "\tGenerated file: ./readsubsets/taxid/R1_158836.fq\n",
      "PROGRAM END TIME: 04-17-2024 18:20:57\n",
      "gunzip ./refseq/bacteria/GCF_000315775.1/GCF_000315775.1_ASM31577v1_genomic.fna.gz\n"
     ]
    },
    {
     "name": "stderr",
     "output_type": "stream",
     "text": [
      "gzip: ./refseq/bacteria/GCF_000315775.1/GCF_000315775.1_ASM31577v1_genomic.fna.gz: No such file or directory\n",
      "[M::mm_idx_gen::0.058*0.86] collected minimizers\n",
      "[M::mm_idx_gen::0.069*1.13] sorted minimizers\n",
      "[M::main::0.069*1.13] loaded/built the index for 51 target sequence(s)\n",
      "[M::mm_mapopt_update::0.074*1.12] mid_occ = 50\n",
      "[M::mm_idx_stat] kmer size: 19; skip: 19; is_hpc: 0; #seq: 51\n",
      "[M::mm_idx_stat::0.078*1.12] distinct minimizers: 476277 (99.16% are singletons); average occurrences: 1.024; average spacing: 10.000; total length: 4875756\n",
      "[M::worker_pipeline::0.088*1.09] mapped 44 sequences\n",
      "[M::main] Version: 2.27-r1193\n",
      "[M::main] CMD: minimap2 -ax lr:hq ./refseq/bacteria/GCF_000315775.1/GCF_000315775.1_ASM31577v1_genomic.fna ./readsubsets/taxid/R1_158836.fq\n",
      "[M::main] Real time: 0.092 sec; CPU: 0.100 sec; Peak RSS: 0.053 GB\n"
     ]
    },
    {
     "name": "stdout",
     "output_type": "stream",
     "text": [
      "samtools view -c -F 260 ./tmp_files/sam_Enterobacter_hormaechei.sam\n",
      "40\n",
      "samtools view -S -b ./tmp_files/sam_Enterobacter_hormaechei.sam -o ./tmp_files/bam_Enterobacter_hormaechei.bam\n",
      "samtools sort ./tmp_files/bam_Enterobacter_hormaechei.bam -o ./alignments/Enterobacter_hormaechei/sorted_bam_Enterobacter_hormaechei.bam\n",
      "samtools index ./alignments/Enterobacter_hormaechei/sorted_bam_Enterobacter_hormaechei.bam\n",
      "extract_kraken_reads.py --include-children --fastq-output -t 400946 -r testing_samples/rural4/rural_4_report.tsv -k testing_samples/rural4/rural_4_out.tsv -1 testing_samples/rural4/rural_4_readsubset.fastq -o ./readsubsets/taxid/R1_400946.fq\n",
      "PROGRAM START TIME: 04-17-2024 18:20:58\n",
      ">> STEP 0: PARSING REPORT FILE testing_samples/rural4/rural_4_report.tsv\n",
      "\t1 taxonomy IDs to parse\n",
      ">> STEP 1: PARSING KRAKEN FILE FOR READIDS testing_samples/rural4/rural_4_out.tsv\n",
      "\t0.02 million reads processed\n",
      "\t12 read IDs saved\n",
      ">> STEP 2: READING SEQUENCE FILES AND WRITING READS\n",
      "\t12 read IDs found (0.02 mill reads processed)\n",
      "\t12 reads printed to file\n",
      "\tGenerated file: ./readsubsets/taxid/R1_400946.fq\n",
      "PROGRAM END TIME: 04-17-2024 18:20:59\n",
      "gunzip ./refseq/bacteria/GCF_002252325.1/GCF_002252325.1_ASM225232v1_genomic.fna.gz\n",
      "samtools view -c -F 260 ./tmp_files/sam_Wohlfahrtiimonas_chitiniclastica.sam\n",
      "12\n",
      "samtools view -S -b ./tmp_files/sam_Wohlfahrtiimonas_chitiniclastica.sam -o ./tmp_files/bam_Wohlfahrtiimonas_chitiniclastica.bam\n",
      "samtools sort ./tmp_files/bam_Wohlfahrtiimonas_chitiniclastica.bam -o ./alignments/Wohlfahrtiimonas_chitiniclastica/sorted_bam_Wohlfahrtiimonas_chitiniclastica.bam\n"
     ]
    },
    {
     "name": "stderr",
     "output_type": "stream",
     "text": [
      "gzip: ./refseq/bacteria/GCF_002252325.1/GCF_002252325.1_ASM225232v1_genomic.fna.gz: No such file or directory\n",
      "[M::mm_idx_gen::0.028*0.79] collected minimizers\n",
      "[M::mm_idx_gen::0.039*1.15] sorted minimizers\n",
      "[M::main::0.039*1.15] loaded/built the index for 6 target sequence(s)\n",
      "[M::mm_mapopt_update::0.041*1.14] mid_occ = 50\n",
      "[M::mm_idx_stat] kmer size: 19; skip: 19; is_hpc: 0; #seq: 6\n",
      "[M::mm_idx_stat::0.043*1.13] distinct minimizers: 212491 (99.75% are singletons); average occurrences: 1.004; average spacing: 10.016; total length: 2136105\n",
      "[M::worker_pipeline::0.057*1.30] mapped 12 sequences\n",
      "[M::main] Version: 2.27-r1193\n",
      "[M::main] CMD: minimap2 -ax lr:hq ./refseq/bacteria/GCF_002252325.1/GCF_002252325.1_ASM225232v1_genomic.fna ./readsubsets/taxid/R1_400946.fq\n",
      "[M::main] Real time: 0.061 sec; CPU: 0.078 sec; Peak RSS: 0.079 GB\n"
     ]
    },
    {
     "name": "stdout",
     "output_type": "stream",
     "text": [
      "samtools index ./alignments/Wohlfahrtiimonas_chitiniclastica/sorted_bam_Wohlfahrtiimonas_chitiniclastica.bam\n",
      "extract_kraken_reads.py --include-children --fastq-output -t 2713414 -r testing_samples/rural4/rural_4_report.tsv -k testing_samples/rural4/rural_4_out.tsv -1 testing_samples/rural4/rural_4_readsubset.fastq -o ./readsubsets/taxid/R1_2713414.fq\n",
      "PROGRAM START TIME: 04-17-2024 18:20:59\n",
      ">> STEP 0: PARSING REPORT FILE testing_samples/rural4/rural_4_report.tsv\n",
      "\t1 taxonomy IDs to parse\n",
      ">> STEP 1: PARSING KRAKEN FILE FOR READIDS testing_samples/rural4/rural_4_out.tsv\n",
      "\t0.02 million reads processed\n",
      "\t3 read IDs saved\n",
      ">> STEP 2: READING SEQUENCE FILES AND WRITING READS\n",
      "\t3 read IDs found (0.02 mill reads processed)\n",
      "\t3 reads printed to file\n",
      "\tGenerated file: ./readsubsets/taxid/R1_2713414.fq\n",
      "PROGRAM END TIME: 04-17-2024 18:21:00\n",
      "gunzip ./refseq/bacteria/GCF_011058315.1/GCF_011058315.1_ASM1105831v1_genomic.fna.gz\n",
      "samtools view -c -F 260 ./tmp_files/sam_Chryseobacterium_sp._POL2.sam\n",
      "3\n",
      "samtools view -S -b ./tmp_files/sam_Chryseobacterium_sp._POL2.sam -o ./tmp_files/bam_Chryseobacterium_sp._POL2.bam\n",
      "samtools sort ./tmp_files/bam_Chryseobacterium_sp._POL2.bam -o ./alignments/Chryseobacterium_sp._POL2/sorted_bam_Chryseobacterium_sp._POL2.bam\n",
      "samtools index ./alignments/Chryseobacterium_sp._POL2/sorted_bam_Chryseobacterium_sp._POL2.bam\n",
      "extract_kraken_reads.py --include-children --fastq-output -t 5679 -r testing_samples/rural4/rural_4_report.tsv -k testing_samples/rural4/rural_4_out.tsv -1 testing_samples/rural4/rural_4_readsubset.fastq -o ./readsubsets/taxid/R1_5679.fq\n"
     ]
    },
    {
     "name": "stderr",
     "output_type": "stream",
     "text": [
      "gzip: ./refseq/bacteria/GCF_011058315.1/GCF_011058315.1_ASM1105831v1_genomic.fna.gz: No such file or directory\n",
      "[M::mm_idx_gen::0.041*0.96] collected minimizers\n",
      "[M::mm_idx_gen::0.052*1.23] sorted minimizers\n",
      "[M::main::0.052*1.23] loaded/built the index for 1 target sequence(s)\n",
      "[M::mm_mapopt_update::0.055*1.22] mid_occ = 50\n",
      "[M::mm_idx_stat] kmer size: 19; skip: 19; is_hpc: 0; #seq: 1\n",
      "[M::mm_idx_stat::0.057*1.21] distinct minimizers: 311886 (98.15% are singletons); average occurrences: 1.040; average spacing: 9.996; total length: 3243462\n",
      "[M::worker_pipeline::0.065*1.12] mapped 3 sequences\n",
      "[M::main] Version: 2.27-r1193\n",
      "[M::main] CMD: minimap2 -ax lr:hq ./refseq/bacteria/GCF_011058315.1/GCF_011058315.1_ASM1105831v1_genomic.fna ./readsubsets/taxid/R1_2713414.fq\n",
      "[M::main] Real time: 0.068 sec; CPU: 0.076 sec; Peak RSS: 0.041 GB\n"
     ]
    },
    {
     "name": "stdout",
     "output_type": "stream",
     "text": [
      "PROGRAM START TIME: 04-17-2024 18:21:00\n",
      ">> STEP 0: PARSING REPORT FILE testing_samples/rural4/rural_4_report.tsv\n",
      "\t1 taxonomy IDs to parse\n",
      ">> STEP 1: PARSING KRAKEN FILE FOR READIDS testing_samples/rural4/rural_4_out.tsv\n",
      "\t0.02 million reads processed\n",
      "\t2 read IDs saved\n",
      ">> STEP 2: READING SEQUENCE FILES AND WRITING READS\n",
      "\t2 read IDs found (0.01 mill reads processed)\n",
      "\t2 reads printed to file\n",
      "\tGenerated file: ./readsubsets/taxid/R1_5679.fq\n",
      "PROGRAM END TIME: 04-17-2024 18:21:00\n",
      "gunzip ./refseq/protozoa/GCF_000755165.1/GCF_000755165.1_ASM75516v1_genomic.fna.gz\n"
     ]
    },
    {
     "name": "stderr",
     "output_type": "stream",
     "text": [
      "gzip: ./refseq/protozoa/GCF_000755165.1/GCF_000755165.1_ASM75516v1_genomic.fna.gz: No such file or directory\n"
     ]
    },
    {
     "name": "stdout",
     "output_type": "stream",
     "text": [
      "samtools view -c -F 260 ./tmp_files/sam_Leishmania_panamensis.sam\n",
      "2\n",
      "samtools view -S -b ./tmp_files/sam_Leishmania_panamensis.sam -o ./tmp_files/bam_Leishmania_panamensis.bam\n",
      "samtools sort ./tmp_files/bam_Leishmania_panamensis.bam -o ./alignments/Leishmania_panamensis/sorted_bam_Leishmania_panamensis.bam\n",
      "samtools index ./alignments/Leishmania_panamensis/sorted_bam_Leishmania_panamensis.bam\n"
     ]
    },
    {
     "name": "stderr",
     "output_type": "stream",
     "text": [
      "[M::mm_idx_gen::0.340*0.98] collected minimizers\n",
      "[M::mm_idx_gen::0.391*1.23] sorted minimizers\n",
      "[M::main::0.391*1.23] loaded/built the index for 35 target sequence(s)\n",
      "[M::mm_mapopt_update::0.410*1.22] mid_occ = 50\n",
      "[M::mm_idx_stat] kmer size: 19; skip: 19; is_hpc: 0; #seq: 35\n",
      "[M::mm_idx_stat::0.426*1.21] distinct minimizers: 2922105 (98.44% are singletons); average occurrences: 1.027; average spacing: 10.226; total length: 30688794\n",
      "[M::worker_pipeline::0.428*1.21] mapped 2 sequences\n",
      "[M::main] Version: 2.27-r1193\n",
      "[M::main] CMD: minimap2 -ax lr:hq ./refseq/protozoa/GCF_000755165.1/GCF_000755165.1_ASM75516v1_genomic.fna ./readsubsets/taxid/R1_5679.fq\n",
      "[M::main] Real time: 0.434 sec; CPU: 0.523 sec; Peak RSS: 0.149 GB\n"
     ]
    }
   ],
   "source": [
    "## Extracting reads, mapping to reference, converting to BAM and creating coverage map\n",
    "## Long Read\n",
    "\n",
    "species_name_ls = []\n",
    "taxid_ls = []\n",
    "read_mapped_count = []\n",
    "\n",
    "\n",
    "\n",
    "pathlib.Path('./readsubsets').mkdir(parents=True, exist_ok=True)\n",
    "pathlib.Path('./tmp_files').mkdir(parents=True, exist_ok=True)\n",
    "pathlib.Path('./alignments').mkdir(parents=True, exist_ok=True)\n",
    "\n",
    "#minimap2 -ax sr ${ref} ${fastq1} ${fastq1} > ${sample}.sam \n",
    "\n",
    "for taxid in ngd_metadata_all['taxid']:\n",
    "    \n",
    "    pathlib.Path('./readsubsets/taxid').mkdir(parents=True, exist_ok=True)\n",
    "\n",
    "    species_name = list(ngd_metadata_all.loc[ngd_metadata_all['taxid'] == taxid]['organism_name'])[0].replace(\" \", \"_\")\n",
    "\n",
    "    pathlib.Path('./alignments/' + species_name).mkdir(parents=True, exist_ok=True)\n",
    "    \n",
    "    koutput = 'testing_samples/rural4/rural_4_out.tsv'\n",
    "    kreport = 'testing_samples/rural4/rural_4_report.tsv'\n",
    "    read1 = 'testing_samples/rural4/rural_4_readsubset.fastq'\n",
    "    output_r1 = './readsubsets/taxid/R1_' + str(taxid) + '.fq'\n",
    "\n",
    "    refernce_path_gz = list(ngd_metadata_all.loc[ngd_metadata_all['taxid'] == taxid]['local_filename'])[0]\n",
    "    refernce_path = refernce_path_gz.replace('.gz','')\n",
    "    \n",
    "    sam_name = './tmp_files/sam_' + species_name + '.sam'\n",
    "    bam_name = './tmp_files/bam_' + species_name + '.bam'\n",
    "    sort_bam_name = './alignments/' + species_name + '/sorted_bam_' + species_name + '.bam'\n",
    "    \n",
    "    ## Running Kraken Tools    \n",
    "    ktools_command = 'extract_kraken_reads.py --include-children --fastq-output -t ' + str(taxid)  + ' -r ' + kreport + ' -k ' + koutput + ' -1 ' + read1 + ' -o ' +  output_r1\n",
    "    os.system('echo ' + ktools_command)\n",
    "    os.system(ktools_command)\n",
    "\n",
    "    ## Running Minimap\n",
    "    gunzip = 'gunzip ' + refernce_path_gz\n",
    "    minimap2_map = 'minimap2 -ax lr:hq ' + refernce_path + ' ' + output_r1 + ' > ' + sam_name\n",
    "    samtools_view = 'samtools view -c -F 260 ' + sam_name\n",
    "    samtools_sam2bam = 'samtools view -S -b ' + sam_name + ' -o ' + bam_name\n",
    "    samtools_bamsort = 'samtools sort ' + bam_name + ' -o ' + sort_bam_name\n",
    "    samtools_indexbam = 'samtools index ' + sort_bam_name\n",
    "    \n",
    "    os.system('echo ' + gunzip)\n",
    "    os.system(gunzip)\n",
    "    os.system('echo ' + minimap2_map)\n",
    "    os.system(minimap2_map)\n",
    "    os.system('echo ' + samtools_view)\n",
    "    os.system(samtools_view)\n",
    "    os.system('echo ' + samtools_sam2bam)\n",
    "    os.system(samtools_sam2bam)\n",
    "    os.system('echo ' + samtools_bamsort)\n",
    "    os.system(samtools_bamsort)\n",
    "    os.system('echo ' + samtools_indexbam)\n",
    "    os.system(samtools_indexbam)\n",
    "\n",
    "    output = subprocess.check_output(samtools_view, shell=True)\n",
    "    output_str = output.decode('utf-8')\n",
    "    species_name_ls.append(species_name)\n",
    "    taxid_ls.append(taxid)\n",
    "    read_mapped_count.append(output_str.split()[0])"
   ]
  },
  {
   "cell_type": "code",
   "execution_count": 181,
   "id": "831ba7fc-971a-4bf5-95c1-06ebdaff8eae",
   "metadata": {},
   "outputs": [],
   "source": [
    "read_counts_df = pd.DataFrame()\n",
    "read_counts_df['Species'] = species_name_ls\n",
    "read_counts_df['TaxID'] = taxid_ls\n",
    "read_counts_df['Mapped_Reads'] = read_mapped_count\n",
    "read_counts_df.to_csv('Rural4_pathogen_confirmation.csv')"
   ]
  },
  {
   "cell_type": "code",
   "execution_count": null,
   "id": "1f660425-1dcc-4791-875b-d2b2f56f674e",
   "metadata": {},
   "outputs": [],
   "source": []
  }
 ],
 "metadata": {
  "kernelspec": {
   "display_name": "Python 3 (ipykernel)",
   "language": "python",
   "name": "python3"
  },
  "language_info": {
   "codemirror_mode": {
    "name": "ipython",
    "version": 3
   },
   "file_extension": ".py",
   "mimetype": "text/x-python",
   "name": "python",
   "nbconvert_exporter": "python",
   "pygments_lexer": "ipython3",
   "version": "3.11.5"
  }
 },
 "nbformat": 4,
 "nbformat_minor": 5
}
